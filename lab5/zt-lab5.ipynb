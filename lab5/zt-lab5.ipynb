{
 "cells": [
  {
   "cell_type": "markdown",
   "id": "dba34e46-9b7d-4ade-a964-68c0e1078896",
   "metadata": {},
   "source": [
    "# Implementing Basic Zero Trust Network"
   ]
  },
  {
   "cell_type": "markdown",
   "id": "6225f467-8f8a-43f8-b7f2-c75d15f874c4",
   "metadata": {
    "tags": []
   },
   "source": [
    "# Zero Trust Architecture Lab 5: Basic Zero Trust Network Implementation\n",
    "\n",
    "## Introduction\n",
    "\n",
    "Welcome to Lab 5 of our Zero Trust Architecture course! In this lab, you will implement a basic Zero Trust network using AWS services. You'll set up a system that demonstrates core Zero Trust principles, including identity-based access control, least privilege access, and continuous authentication.\n",
    "\n",
    "![image.png](zt-lab5-image-cover.png)\n",
    "\n",
    "## Lab Overview\n",
    "\n",
    "In this lab, you will:\n",
    "\n",
    "1. Set up a simple Identity Provider using AWS Lambda and API Gateway\n",
    "2. Create a VPC with public and private subnets\n",
    "3. Implement network security using Internet Gateway, NAT Gateway, and security groups\n",
    "4. Deploy a backend server with token-based access control\n",
    "5. Deploy a frontend server that authenticates users and mediates access to the backend\n",
    "\n",
    "## Key Components\n",
    "\n",
    "1. **Identity Provider**: A Lambda function that generates and validates tokens\n",
    "2. **VPC**: A Virtual Private Cloud with public and private subnets\n",
    "3. **Security Groups**: FrontendSG and BackendSG to control network access\n",
    "4. **Backend Server**: An EC2 instance in the private subnet that checks for valid tokens\n",
    "5. **Frontend Server**: An EC2 instance in the public subnet that authenticates users and requests data from the backend\n",
    "\n",
    "## Lab Steps\n",
    "\n",
    "1. Set up the AWS environment and initialize necessary clients\n",
    "2. Create an Identity Provider using Lambda and API Gateway\n",
    "3. Set up a VPC with public and private subnets\n",
    "4. Configure Internet Gateway, NAT Gateway, and route tables\n",
    "5. Create security groups for frontend and backend servers\n",
    "6. Deploy the backend server in the private subnet\n",
    "7. Deploy the frontend server in the public subnet\n",
    "8. Test the Zero Trust-secured system\n",
    "\n",
    "## Use Cases\n",
    "\n",
    "### Use Case 1: Successful Authentication and Data Access\n",
    "\n",
    "**Scenario**: A legitimate user accesses the system with correct credentials.\n",
    "\n",
    "**Steps**:\n",
    "1. Access the frontend server's public IP in a web browser\n",
    "2. Enter the correct username (\"admin\") and password (\"password123\")\n",
    "3. Observe the generated token and the sensitive data retrieved from the backend\n",
    "\n",
    "**Learning Points**:\n",
    "- Token-based authentication in action\n",
    "- Separation of authentication (frontend) and authorization (backend)\n",
    "- Secure communication between frontend and backend servers\n",
    "\n",
    "### Use Case 2: Failed Authentication\n",
    "\n",
    "**Scenario**: An attacker attempts to access the system with incorrect credentials.\n",
    "\n",
    "**Steps**:\n",
    "1. Access the frontend server's public IP in a web browser\n",
    "2. Enter an incorrect username or password\n",
    "3. Observe the error message and lack of access to sensitive data\n",
    "\n",
    "**Learning Points**:\n",
    "- Importance of strong authentication in Zero Trust\n",
    "- How the system denies access without valid credentials\n",
    "\n",
    "### Use Case 3: Token Expiration\n",
    "\n",
    "**Scenario**: A user's session expires, requiring re-authentication.\n",
    "\n",
    "**Steps**:\n",
    "1. Authenticate successfully as in Use Case 1\n",
    "2. Wait for the token to expire (set to 1 hour in this lab)\n",
    "3. Attempt to access sensitive data again\n",
    "4. Observe that you're redirected to the login page\n",
    "\n",
    "**Learning Points**:\n",
    "- Importance of short-lived tokens in Zero Trust\n",
    "- Continuous authentication principle\n",
    "\n",
    "### Use Case 4: Attempting Direct Backend Access\n",
    "\n",
    "**Scenario**: An attacker attempts to bypass the frontend and access the backend directly.\n",
    "\n",
    "**Steps**:\n",
    "1. Attempt to access the backend server's private IP directly\n",
    "2. Observe that the connection times out\n",
    "\n",
    "**Learning Points**:\n",
    "- Importance of network segmentation in Zero Trust\n",
    "- How placing the backend in a private subnet enhances security\n",
    "\n",
    "### Use Case 5: Modifying the Token\n",
    "\n",
    "**Scenario**: An attacker obtains a valid token and attempts to modify it.\n",
    "\n",
    "**Steps**:\n",
    "1. Authenticate successfully and copy the generated token\n",
    "2. Modify part of the token\n",
    "3. Use developer tools to send a request to the backend with the modified token\n",
    "4. Observe that the backend rejects the modified token\n",
    "\n",
    "**Learning Points**:\n",
    "- Importance of token integrity in Zero Trust\n",
    "- How the backend validates tokens independently\n",
    "\n",
    "## Reflection Questions\n",
    "\n",
    "1. How does this implementation enforce the \"never trust, always verify\" principle of Zero Trust?\n",
    "2. What are the benefits and potential drawbacks of using short-lived tokens for authentication?\n",
    "3. How does the network architecture (public/private subnets, NAT Gateway) contribute to the Zero Trust model?\n",
    "4. Can you think of ways to further enhance this system's security within the Zero Trust framework?\n",
    "5. How might this basic Zero Trust model need to be adapted for a large-scale, real-world application?\n",
    "\n",
    "By completing this lab and exploring these use cases, you'll gain hands-on experience with implementing and testing a basic Zero Trust Architecture, setting the foundation for more advanced Zero Trust concepts and implementations."
   ]
  },
  {
   "cell_type": "markdown",
   "id": "1927dfac",
   "metadata": {
    "tags": []
   },
   "source": [
    "# Identity Provider Setup\n",
    "\n",
    "This notebook sets up a simple identity provider using AWS Lambda and API Gateway."
   ]
  },
  {
   "cell_type": "code",
   "execution_count": 1,
   "id": "c6873bad",
   "metadata": {
    "tags": []
   },
   "outputs": [],
   "source": [
    "# Version 1.2\n",
    "# Import necessary libraries\n",
    "\n",
    "import boto3\n",
    "import json\n",
    "import time\n",
    "import random\n",
    "import string"
   ]
  },
  {
   "cell_type": "code",
   "execution_count": 2,
   "id": "4599d2ca-1f50-476c-a61f-8ef00b8b2ab6",
   "metadata": {
    "tags": []
   },
   "outputs": [],
   "source": [
    "# Set the AWS region for resource creation (change as needed)\n",
    "\n",
    "region = 'us-west-2'"
   ]
  },
  {
   "cell_type": "code",
   "execution_count": 3,
   "id": "23a80466-1830-4f79-a691-b2253033c9bf",
   "metadata": {
    "tags": []
   },
   "outputs": [
    {
     "name": "stdout",
     "output_type": "stream",
     "text": [
      "AWS environment initialized in region: us-west-2\n"
     ]
    }
   ],
   "source": [
    "# Initialize EC2 client and resource objects for interacting with AWS\n",
    "\n",
    "lambda_client = boto3.client('lambda', region_name=region)\n",
    "iam_client = boto3.client('iam', region_name=region)\n",
    "apigateway_client = boto3.client('apigateway', region_name=region)\n",
    "\n",
    "print(f\"AWS environment initialized in region: {region}\")"
   ]
  },
  {
   "cell_type": "code",
   "execution_count": 4,
   "id": "80aaa69b-b88c-40ea-81d3-434c344d179d",
   "metadata": {
    "tags": []
   },
   "outputs": [],
   "source": [
    "# Function to generate a random string\n",
    "\n",
    "def generate_random_string(length=10):\n",
    "    return ''.join(random.choices(string.ascii_lowercase + string.digits, k=length))"
   ]
  },
  {
   "cell_type": "markdown",
   "id": "623293b3",
   "metadata": {},
   "source": [
    "## Step 1: Create IAM Role for Lambda"
   ]
  },
  {
   "cell_type": "code",
   "execution_count": 5,
   "id": "65333566",
   "metadata": {
    "tags": []
   },
   "outputs": [
    {
     "name": "stdout",
     "output_type": "stream",
     "text": [
      "Creating IAM Role...\n",
      "IAM Role created: arn:aws:iam::172872575382:role/LabLambdaExecutionRole-fvzkfhzqh6\n"
     ]
    }
   ],
   "source": [
    "# Initialize IAM client\n",
    "iam_client = boto3.client('iam')\n",
    "\n",
    "# Function to generate a random string\n",
    "# def generate_random_string(length=10):\n",
    "#    return ''.join(random.choices(string.ascii_lowercase + string.digits, k=length))\n",
    "\n",
    "print(\"Creating IAM Role...\")\n",
    "assume_role_policy = {\n",
    "    \"Version\": \"2012-10-17\",\n",
    "    \"Statement\": [{\n",
    "        \"Effect\": \"Allow\",\n",
    "        \"Principal\": {\"Service\": \"lambda.amazonaws.com\"},\n",
    "        \"Action\": \"sts:AssumeRole\"\n",
    "    }]\n",
    "}\n",
    "\n",
    "role_name = f'LabLambdaExecutionRole-{generate_random_string()}'\n",
    "role_response = iam_client.create_role(\n",
    "    RoleName=role_name,\n",
    "    AssumeRolePolicyDocument=json.dumps(assume_role_policy)\n",
    ")\n",
    "\n",
    "iam_client.attach_role_policy(\n",
    "    RoleName=role_name,\n",
    "    PolicyArn='arn:aws:iam::aws:policy/service-role/AWSLambdaBasicExecutionRole'\n",
    ")\n",
    "\n",
    "# Wait for role to be created\n",
    "time.sleep(10)\n",
    "print(f\"IAM Role created: {role_response['Role']['Arn']}\")"
   ]
  },
  {
   "cell_type": "markdown",
   "id": "57f71449",
   "metadata": {
    "tags": []
   },
   "source": [
    "## Step 2: Create Lambda Function"
   ]
  },
  {
   "cell_type": "code",
   "execution_count": 6,
   "id": "0b8b73fa",
   "metadata": {
    "tags": []
   },
   "outputs": [
    {
     "name": "stdout",
     "output_type": "stream",
     "text": [
      "Creating Lambda Function...\n",
      "Lambda Function created: arn:aws:lambda:us-west-2:172872575382:function:IdentityProviderFunction-bmuykf1s8n\n"
     ]
    }
   ],
   "source": [
    "import boto3\n",
    "import json\n",
    "import io\n",
    "import zipfile\n",
    "\n",
    "# Initialize Lambda client\n",
    "lambda_client = boto3.client('lambda')\n",
    "\n",
    "print(\"Creating Lambda Function...\")\n",
    "lambda_code = \"\"\"\n",
    "const crypto = require('crypto');\n",
    "\n",
    "const users = {\n",
    "    'admin': 'password123',\n",
    "    'user1': 'password456'\n",
    "};\n",
    "\n",
    "const generateToken = (username) => {\n",
    "    const payload = {\n",
    "        username: username,\n",
    "        exp: Math.floor(Date.now() / 1000) + (60 * 60) // 1 hour expiration\n",
    "    };\n",
    "    return Buffer.from(JSON.stringify(payload)).toString('base64');\n",
    "};\n",
    "\n",
    "exports.handler = async (event) => {\n",
    "    const { username, password } = JSON.parse(event.body);\n",
    "    if (users[username] && users[username] === password) {\n",
    "        const token = generateToken(username);\n",
    "        return {\n",
    "            statusCode: 200,\n",
    "            body: JSON.stringify({ token: token })\n",
    "        };\n",
    "    } else {\n",
    "        return {\n",
    "            statusCode: 401,\n",
    "            body: JSON.stringify({ message: 'Invalid credentials' })\n",
    "        };\n",
    "    }\n",
    "};\n",
    "\"\"\"\n",
    "\n",
    "# Create a ZIP file in memory\n",
    "zip_output = io.BytesIO()\n",
    "with zipfile.ZipFile(zip_output, 'w', zipfile.ZIP_DEFLATED) as zip_file:\n",
    "    zip_file.writestr('index.js', lambda_code)\n",
    "\n",
    "# Seek to the beginning of the BytesIO object\n",
    "zip_output.seek(0)\n",
    "\n",
    "lambda_function_name = f'IdentityProviderFunction-{generate_random_string()}'\n",
    "lambda_response = lambda_client.create_function(\n",
    "    FunctionName=lambda_function_name,\n",
    "    Runtime='nodejs16.x',\n",
    "    Role=role_response['Role']['Arn'],\n",
    "    Handler='index.handler',\n",
    "    Code={'ZipFile': zip_output.read()},\n",
    "    Timeout=30\n",
    ")\n",
    "\n",
    "print(f\"Lambda Function created: {lambda_response['FunctionArn']}\")"
   ]
  },
  {
   "cell_type": "markdown",
   "id": "1f5f780a",
   "metadata": {
    "tags": []
   },
   "source": [
    "## Step 3: Create API Gateway"
   ]
  },
  {
   "cell_type": "code",
   "execution_count": 7,
   "id": "6bf10465",
   "metadata": {
    "tags": []
   },
   "outputs": [
    {
     "name": "stdout",
     "output_type": "stream",
     "text": [
      "Creating API Gateway...\n"
     ]
    },
    {
     "data": {
      "text/plain": [
       "{'ResponseMetadata': {'RequestId': 'cf591cd8-2107-44b7-a168-36388746eeb8',\n",
       "  'HTTPStatusCode': 201,\n",
       "  'HTTPHeaders': {'date': 'Sun, 02 Feb 2025 00:47:31 GMT',\n",
       "   'content-type': 'application/json',\n",
       "   'content-length': '318',\n",
       "   'connection': 'keep-alive',\n",
       "   'x-amzn-requestid': 'cf591cd8-2107-44b7-a168-36388746eeb8',\n",
       "   'x-amz-apigw-id': 'FVMJpLB6vHcEdwA='},\n",
       "  'RetryAttempts': 0},\n",
       " 'type': 'AWS_PROXY',\n",
       " 'httpMethod': 'POST',\n",
       " 'uri': 'arn:aws:apigateway:us-west-2:lambda:path/2015-03-31/functions/arn:aws:lambda:us-west-2:172872575382:function:IdentityProviderFunction-bmuykf1s8n/invocations',\n",
       " 'passthroughBehavior': 'WHEN_NO_MATCH',\n",
       " 'timeoutInMillis': 29000,\n",
       " 'cacheNamespace': 'cp5ccf',\n",
       " 'cacheKeyParameters': []}"
      ]
     },
     "execution_count": 7,
     "metadata": {},
     "output_type": "execute_result"
    }
   ],
   "source": [
    "print(\"Creating API Gateway...\")\n",
    "api_response = apigateway_client.create_rest_api(\n",
    "    name='IdentityProviderApi'\n",
    ")\n",
    "\n",
    "resources = apigateway_client.get_resources(restApiId=api_response['id'])\n",
    "root_id = resources['items'][0]['id']\n",
    "\n",
    "resource_response = apigateway_client.create_resource(\n",
    "    restApiId=api_response['id'],\n",
    "    parentId=root_id,\n",
    "    pathPart='authenticate'\n",
    ")\n",
    "\n",
    "apigateway_client.put_method(\n",
    "    restApiId=api_response['id'],\n",
    "    resourceId=resource_response['id'],\n",
    "    httpMethod='POST',\n",
    "    authorizationType='NONE'\n",
    ")\n",
    "\n",
    "apigateway_client.put_integration(\n",
    "    restApiId=api_response['id'],\n",
    "    resourceId=resource_response['id'],\n",
    "    httpMethod='POST',\n",
    "    type='AWS_PROXY',\n",
    "    integrationHttpMethod='POST',\n",
    "    uri=f\"arn:aws:apigateway:{lambda_response['FunctionArn'].split(':')[3]}:lambda:path/2015-03-31/functions/{lambda_response['FunctionArn']}/invocations\"\n",
    ")"
   ]
  },
  {
   "cell_type": "markdown",
   "id": "4b84745c",
   "metadata": {
    "tags": []
   },
   "source": [
    "## Step 4: Deploy API"
   ]
  },
  {
   "cell_type": "code",
   "execution_count": 8,
   "id": "e38ce682",
   "metadata": {
    "tags": []
   },
   "outputs": [
    {
     "name": "stdout",
     "output_type": "stream",
     "text": [
      "Deploying API...\n"
     ]
    },
    {
     "data": {
      "text/plain": [
       "{'ResponseMetadata': {'RequestId': 'e151ef0c-0492-48ab-8416-6e2b5cb5a9a7',\n",
       "  'HTTPStatusCode': 201,\n",
       "  'HTTPHeaders': {'date': 'Sun, 02 Feb 2025 00:47:32 GMT',\n",
       "   'content-type': 'application/json',\n",
       "   'content-length': '41',\n",
       "   'connection': 'keep-alive',\n",
       "   'x-amzn-requestid': 'e151ef0c-0492-48ab-8416-6e2b5cb5a9a7',\n",
       "   'x-amz-apigw-id': 'FVMJqJ8rvHcEdiQ='},\n",
       "  'RetryAttempts': 0},\n",
       " 'id': '7mnjjj',\n",
       " 'createdDate': datetime.datetime(2025, 2, 2, 0, 47, 31, tzinfo=tzlocal())}"
      ]
     },
     "execution_count": 8,
     "metadata": {},
     "output_type": "execute_result"
    }
   ],
   "source": [
    "print(\"Deploying API...\")\n",
    "apigateway_client.create_deployment(\n",
    "    restApiId=api_response['id'],\n",
    "    stageName='prod'\n",
    ")"
   ]
  },
  {
   "cell_type": "markdown",
   "id": "903ddfba",
   "metadata": {},
   "source": [
    "## Step 5: Add Lambda Permission"
   ]
  },
  {
   "cell_type": "code",
   "execution_count": 9,
   "id": "e35e8f88",
   "metadata": {
    "tags": []
   },
   "outputs": [
    {
     "name": "stdout",
     "output_type": "stream",
     "text": [
      "Adding Lambda Permission...\n"
     ]
    },
    {
     "data": {
      "text/plain": [
       "{'ResponseMetadata': {'RequestId': '9a6f9d18-165c-419e-abac-1ea2fffd7a55',\n",
       "  'HTTPStatusCode': 201,\n",
       "  'HTTPHeaders': {'date': 'Sun, 02 Feb 2025 00:47:32 GMT',\n",
       "   'content-type': 'application/json',\n",
       "   'content-length': '385',\n",
       "   'connection': 'keep-alive',\n",
       "   'x-amzn-requestid': '9a6f9d18-165c-419e-abac-1ea2fffd7a55'},\n",
       "  'RetryAttempts': 0},\n",
       " 'Statement': '{\"Sid\":\"apigateway-invoke\",\"Effect\":\"Allow\",\"Principal\":{\"Service\":\"apigateway.amazonaws.com\"},\"Action\":\"lambda:InvokeFunction\",\"Resource\":\"arn:aws:lambda:us-west-2:172872575382:function:IdentityProviderFunction-bmuykf1s8n\",\"Condition\":{\"ArnLike\":{\"AWS:SourceArn\":\"arn:aws:execute-api:us-west-2:172872575382:yc8tq94lw8/*/*/authenticate\"}}}'}"
      ]
     },
     "execution_count": 9,
     "metadata": {},
     "output_type": "execute_result"
    }
   ],
   "source": [
    "print(\"Adding Lambda Permission...\")\n",
    "lambda_client.add_permission(\n",
    "    FunctionName=lambda_response['FunctionName'],\n",
    "    StatementId='apigateway-invoke',\n",
    "    Action='lambda:InvokeFunction',\n",
    "    Principal='apigateway.amazonaws.com',\n",
    "    SourceArn=f\"arn:aws:execute-api:{lambda_response['FunctionArn'].split(':')[3]}:{lambda_response['FunctionArn'].split(':')[4]}:{api_response['id']}/*/*/authenticate\"\n",
    ")"
   ]
  },
  {
   "cell_type": "markdown",
   "id": "64bc8aca-3bc0-4938-a430-7a010703c39d",
   "metadata": {},
   "source": [
    "## Initialize Value Store\n",
    "Initialize long-term storage"
   ]
  },
  {
   "cell_type": "code",
   "execution_count": 10,
   "id": "4cc91390-ee79-4319-853a-05ab6a5cad2f",
   "metadata": {
    "tags": []
   },
   "outputs": [
    {
     "name": "stdout",
     "output_type": "stream",
     "text": [
      "test_value\n"
     ]
    }
   ],
   "source": [
    "class ValueStore:\n",
    "    _instance = None\n",
    "    \n",
    "    def __new__(cls):\n",
    "        if cls._instance is None:\n",
    "            cls._instance = super(ValueStore, cls).__new__(cls)\n",
    "            cls._instance.store = {}\n",
    "        return cls._instance\n",
    "    \n",
    "    def set(self, key, value):\n",
    "        self.store[key] = value\n",
    "        \n",
    "    def get(self, key, default=None):\n",
    "        return self.store.get(key, default)\n",
    "    \n",
    "    def print_all(self):\n",
    "        for key, value in self.store.items():\n",
    "            print(f\"{key}: {value}\")\n",
    "\n",
    "# Create a global instance\n",
    "value_store = ValueStore()\n",
    "\n",
    "# Test the ValueStore\n",
    "value_store.set('test_key', 'test_value')\n",
    "print(value_store.get('test_key'))  # Should print: test_value"
   ]
  },
  {
   "cell_type": "markdown",
   "id": "99c73475",
   "metadata": {},
   "source": [
    "## Output"
   ]
  },
  {
   "cell_type": "code",
   "execution_count": 11,
   "id": "f4de8a32",
   "metadata": {
    "tags": []
   },
   "outputs": [
    {
     "name": "stdout",
     "output_type": "stream",
     "text": [
      "\n",
      "Identity Provider API URL: https://yc8tq94lw8.execute-api.us-west-2.amazonaws.com/prod/authenticate\n",
      "\n",
      "Setup complete!\n"
     ]
    }
   ],
   "source": [
    "# Output the API URL\n",
    "api_url = f\"https://{api_response['id']}.execute-api.{lambda_response['FunctionArn'].split(':')[3]}.amazonaws.com/prod/authenticate\"\n",
    "print(f\"\\nIdentity Provider API URL: {api_url}\")\n",
    "\n",
    "print(\"\\nSetup complete!\")\n",
    "\n",
    "# Store the api_url for later use\n",
    "idp_url = api_url\n",
    "value_store.set('idp_url',api_url)"
   ]
  },
  {
   "cell_type": "markdown",
   "id": "611fdf10-9418-4d5b-8aae-d9ac2caf329b",
   "metadata": {
    "tags": []
   },
   "source": [
    "# Base VPC Setup\n",
    "\n",
    "This notebook sets up a base VPC."
   ]
  },
  {
   "cell_type": "markdown",
   "id": "1067b18d-0c5b-4189-9210-cf0578cb2f92",
   "metadata": {
    "tags": []
   },
   "source": [
    "## Setup\n",
    "\n",
    "First, let's set up our AWS environment. Make sure you have configured your AWS CLI with the appropriate credentials."
   ]
  },
  {
   "cell_type": "code",
   "execution_count": 12,
   "id": "8206eefb-bbf0-45ef-88e5-d10fc4a9f790",
   "metadata": {
    "tags": []
   },
   "outputs": [],
   "source": [
    "import boto3\n",
    "import json\n",
    "import time"
   ]
  },
  {
   "cell_type": "markdown",
   "id": "d0c327e8-72cf-4dea-8718-ef906a9e0e77",
   "metadata": {
    "tags": []
   },
   "source": [
    "## Set the AWS region\n",
    "Configure the AWS region to create the network and servers"
   ]
  },
  {
   "cell_type": "code",
   "execution_count": 13,
   "id": "59db0d0c-f419-4b1b-9a59-d2024123214a",
   "metadata": {
    "tags": []
   },
   "outputs": [],
   "source": [
    "# Set the AWS region for resource creation (change as needed)\n",
    "\n",
    "region = 'us-west-2'"
   ]
  },
  {
   "cell_type": "markdown",
   "id": "de9f30c6-9856-4cb5-b6b9-ae9f8f8e561b",
   "metadata": {
    "tags": []
   },
   "source": [
    "## Initialize AWS clients\n",
    "Setup the necessary environment variables"
   ]
  },
  {
   "cell_type": "code",
   "execution_count": 14,
   "id": "335a42df-c3ac-40da-bfa7-8ec7d54d746f",
   "metadata": {
    "tags": []
   },
   "outputs": [
    {
     "name": "stdout",
     "output_type": "stream",
     "text": [
      "AWS environment initialized in region: us-west-2\n"
     ]
    }
   ],
   "source": [
    "# Initialize EC2 client and resource objects for interacting with AWS\n",
    "\n",
    "ec2_client = boto3.client('ec2', region_name=region)\n",
    "ec2_resource = boto3.resource('ec2', region_name=region)\n",
    "secretsmanager = boto3.client('secretsmanager', region_name=region)\n",
    "iam = boto3.client('iam', region_name=region)\n",
    "\n",
    "print(f\"AWS environment initialized in region: {region}\")"
   ]
  },
  {
   "cell_type": "markdown",
   "id": "4a085a56-c90a-4cfa-aafa-4e7ae5a95e37",
   "metadata": {
    "tags": []
   },
   "source": [
    "## Step 1: Create a VPC and Subnet\n",
    "Let's start by creating our Virtual Private Cloud (VPC) and a public subnet."
   ]
  },
  {
   "cell_type": "code",
   "execution_count": 15,
   "id": "cce8b433-1c8c-42c1-9b10-4725bacddd7c",
   "metadata": {
    "tags": []
   },
   "outputs": [
    {
     "name": "stdout",
     "output_type": "stream",
     "text": [
      "VPC created with ID: vpc-05f908a7e8fde7b41\n"
     ]
    }
   ],
   "source": [
    "# Create VPC\n",
    "\n",
    "vpc_response = ec2_client.create_vpc(CidrBlock='10.0.0.0/16')\n",
    "vpc_id = vpc_response['Vpc']['VpcId']\n",
    "ec2_client.create_tags(Resources=[vpc_id], Tags=[{'Key': 'Name', 'Value': 'ZTSecuredVPC'}])\n",
    "\n",
    "value_store.set('vpc_id', vpc_id)\n",
    "\n",
    "print(f\"VPC created with ID: {vpc_id}\")"
   ]
  },
  {
   "cell_type": "code",
   "execution_count": 16,
   "id": "da712fbe-010d-4b4a-a735-8934d20839da",
   "metadata": {
    "tags": []
   },
   "outputs": [
    {
     "name": "stdout",
     "output_type": "stream",
     "text": [
      "Public subnet created with ID: subnet-01e5dcba0baeff6d6 in Availability Zone: us-west-2a\n",
      "Auto-assign public IP enabled for the public subnet\n"
     ]
    }
   ],
   "source": [
    "# Get available Availability Zones\n",
    "\n",
    "available_azs = ec2_client.describe_availability_zones()['AvailabilityZones']\n",
    "az = available_azs[0]['ZoneName']  # Choose the first available AZ\n",
    "\n",
    "# Create Public subnet\n",
    "\n",
    "public_subnet_response = ec2_client.create_subnet(\n",
    "    VpcId=value_store.get('vpc_id'),\n",
    "    CidrBlock='10.0.1.0/24',\n",
    "    AvailabilityZone=az,\n",
    "    TagSpecifications=[\n",
    "        {\n",
    "            'ResourceType': 'subnet',\n",
    "            'Tags': [\n",
    "                {\n",
    "                    'Key': 'Name',\n",
    "                    'Value': 'PublicSubnet'\n",
    "                }\n",
    "            ]\n",
    "        }\n",
    "    ]\n",
    ")\n",
    "public_subnet_id = public_subnet_response['Subnet']['SubnetId']\n",
    "print(f\"Public subnet created with ID: {public_subnet_id} in Availability Zone: {az}\")\n",
    "\n",
    "# Enable auto-assign public IP for the public subnet\n",
    "ec2_client.modify_subnet_attribute(\n",
    "    SubnetId=public_subnet_id,\n",
    "    MapPublicIpOnLaunch={'Value': True}\n",
    ")\n",
    "print(\"Auto-assign public IP enabled for the public subnet\")"
   ]
  },
  {
   "cell_type": "code",
   "execution_count": 17,
   "id": "89ffca92-d18d-4fd3-b0ca-21434129fe30",
   "metadata": {
    "tags": []
   },
   "outputs": [
    {
     "name": "stdout",
     "output_type": "stream",
     "text": [
      "Found public subnet with ID: subnet-01e5dcba0baeff6d6 in Availability Zone: us-west-2a\n",
      "Private subnet created with ID: subnet-07fbc2cb6720f841b in the same AZ as the public subnet: us-west-2a\n",
      "Auto-assign public IP disabled for the private subnet\n"
     ]
    }
   ],
   "source": [
    "# First, let's find the public subnet ID\n",
    "public_subnets = ec2_client.describe_subnets(\n",
    "    Filters=[\n",
    "        {'Name': 'vpc-id', 'Values': [vpc_id]},\n",
    "        {'Name': 'tag:Name', 'Values': ['PublicSubnet']}\n",
    "    ]\n",
    ")['Subnets']\n",
    "\n",
    "if not public_subnets:\n",
    "    raise ValueError(\"No public subnet found. Please ensure you've created a public subnet with the tag 'Name: PublicSubnet'\")\n",
    "\n",
    "public_subnet_id = public_subnets[0]['SubnetId']\n",
    "public_subnet_az = public_subnets[0]['AvailabilityZone']\n",
    "\n",
    "print(f\"Found public subnet with ID: {public_subnet_id} in Availability Zone: {public_subnet_az}\")\n",
    "\n",
    "# Now create the Private subnet in the same Availability Zone\n",
    "private_subnet_response = ec2_client.create_subnet(\n",
    "    VpcId=value_store.get('vpc_id'), \n",
    "    CidrBlock='10.0.2.0/24',  # Different CIDR block for the private subnet\n",
    "    AvailabilityZone=public_subnet_az,\n",
    "    TagSpecifications=[\n",
    "        {\n",
    "            'ResourceType': 'subnet',\n",
    "            'Tags': [\n",
    "                {\n",
    "                    'Key': 'Name',\n",
    "                    'Value': 'PrivateSubnet'\n",
    "                }\n",
    "            ]\n",
    "        }\n",
    "    ]\n",
    ")\n",
    "private_subnet_id = private_subnet_response['Subnet']['SubnetId']\n",
    "print(f\"Private subnet created with ID: {private_subnet_id} in the same AZ as the public subnet: {public_subnet_az}\")\n",
    "\n",
    "# Modify the private subnet to disable auto-assign public IP\n",
    "ec2_client.modify_subnet_attribute(SubnetId=private_subnet_id, MapPublicIpOnLaunch={'Value': False})\n",
    "print(\"Auto-assign public IP disabled for the private subnet\")"
   ]
  },
  {
   "cell_type": "markdown",
   "id": "51364363-3ab6-4d45-8b8b-9ad7dc0723a1",
   "metadata": {
    "tags": []
   },
   "source": [
    "## Step 2: Set up Internet Gateway\n",
    "Now, let's create an Internet Gateway."
   ]
  },
  {
   "cell_type": "code",
   "execution_count": 18,
   "id": "41f32108-f435-4d75-9503-1d83ed52b24d",
   "metadata": {
    "tags": []
   },
   "outputs": [
    {
     "name": "stdout",
     "output_type": "stream",
     "text": [
      "Internet Gateway 'ZTSecuredIGW' created and attached with ID: igw-0f0505d7bbd1d3a63\n"
     ]
    }
   ],
   "source": [
    "# Create Internet Gateway\n",
    "igw_name = \"ZTSecuredIGW\"\n",
    "igw_response = ec2_client.create_internet_gateway(\n",
    "    TagSpecifications=[\n",
    "        {\n",
    "            'ResourceType': 'internet-gateway',\n",
    "            'Tags': [\n",
    "                {\n",
    "                    'Key': 'Name',\n",
    "                    'Value': igw_name\n",
    "                }\n",
    "            ]\n",
    "        }\n",
    "    ]\n",
    ")\n",
    "igw_id = igw_response['InternetGateway']['InternetGatewayId']\n",
    "ec2_client.attach_internet_gateway(InternetGatewayId=igw_id, VpcId=value_store.get('vpc_id'))\n",
    "print(f\"Internet Gateway '{igw_name}' created and attached with ID: {igw_id}\")"
   ]
  },
  {
   "cell_type": "markdown",
   "id": "f1108050-86c0-4d55-a1cb-d0dea9f6c5be",
   "metadata": {
    "tags": []
   },
   "source": [
    "## Step 3: Set up NAT Gateway\n",
    "Next, let's create a NAT Gateway (Network Address Translation) to give instances in private subnet access to the Internet."
   ]
  },
  {
   "cell_type": "code",
   "execution_count": 19,
   "id": "b23ccc0a-cd2f-4ca9-a93f-4012521513a5",
   "metadata": {
    "tags": []
   },
   "outputs": [
    {
     "name": "stdout",
     "output_type": "stream",
     "text": [
      "NAT Gateway 'ZTNATGW' created with ID: nat-0e6cd471e9b959a62\n",
      "NAT Gateway setup complete with ID: nat-0e6cd471e9b959a62\n"
     ]
    }
   ],
   "source": [
    "# Setup NAT Gateway\n",
    "# Note: This will take a few minutes\n",
    "\n",
    "def setup_nat_gateway(vpc_id, public_subnet_id, nat_gateway_name=\"ZTNATGW\"):\n",
    "    # Create Elastic IP\n",
    "    eip = ec2_client.allocate_address(Domain='vpc')\n",
    "    \n",
    "    # Create NAT Gateway with a name tag\n",
    "    nat_gateway = ec2_client.create_nat_gateway(\n",
    "        SubnetId=public_subnet_id,\n",
    "        AllocationId=eip['AllocationId'],\n",
    "        TagSpecifications=[\n",
    "            {\n",
    "                'ResourceType': 'natgateway',\n",
    "                'Tags': [\n",
    "                    {\n",
    "                        'Key': 'Name',\n",
    "                        'Value': nat_gateway_name\n",
    "                    }\n",
    "                ]\n",
    "            }\n",
    "        ]\n",
    "    )\n",
    "    \n",
    "    # Wait for the NAT Gateway to be available\n",
    "    waiter = ec2_client.get_waiter('nat_gateway_available')\n",
    "    waiter.wait(\n",
    "        NatGatewayIds=[nat_gateway['NatGateway']['NatGatewayId']],\n",
    "        WaiterConfig={'Delay': 30, 'MaxAttempts': 10}\n",
    "    )\n",
    "    \n",
    "    print(f\"NAT Gateway '{nat_gateway_name}' created with ID: {nat_gateway['NatGateway']['NatGatewayId']}\")\n",
    "    return nat_gateway['NatGateway']['NatGatewayId']\n",
    "\n",
    "# Create the NAT Gateway\n",
    "nat_gateway_id = setup_nat_gateway(value_store.get('vpc_id'), public_subnet_id)\n",
    "print(f\"NAT Gateway setup complete with ID: {nat_gateway_id}\")"
   ]
  },
  {
   "cell_type": "code",
   "execution_count": 20,
   "id": "7f63caf1-7d8c-4fd4-9cca-536e07a4e630",
   "metadata": {
    "tags": []
   },
   "outputs": [
    {
     "name": "stdout",
     "output_type": "stream",
     "text": [
      "Route table 'ZTPublicRT' created and configured with ID: rtb-0295a22d4c080c26b\n"
     ]
    }
   ],
   "source": [
    "# Create and configure Public route table\n",
    "\n",
    "rt_name = \"ZTPublicRT\"\n",
    "rt_response = ec2_client.create_route_table(\n",
    "    VpcId=value_store.get('vpc_id'),\n",
    "    TagSpecifications=[\n",
    "        {\n",
    "            'ResourceType': 'route-table',\n",
    "            'Tags': [\n",
    "                {\n",
    "                    'Key': 'Name',\n",
    "                    'Value': rt_name\n",
    "                }\n",
    "            ]\n",
    "        }\n",
    "    ]\n",
    ")\n",
    "rt_id = rt_response['RouteTable']['RouteTableId']\n",
    "\n",
    "# Create route to Internet Gateway\n",
    "ec2_client.create_route(RouteTableId=rt_id, DestinationCidrBlock='0.0.0.0/0', GatewayId=igw_id)\n",
    "\n",
    "# Associate route table with subnet\n",
    "ec2_client.associate_route_table(RouteTableId=rt_id, SubnetId=public_subnet_id)\n",
    "\n",
    "print(f\"Route table '{rt_name}' created and configured with ID: {rt_id}\")"
   ]
  },
  {
   "cell_type": "code",
   "execution_count": 21,
   "id": "dff247c2-a8de-4298-bbdc-a1cfcb08011d",
   "metadata": {
    "tags": []
   },
   "outputs": [
    {
     "name": "stdout",
     "output_type": "stream",
     "text": [
      "Private route table 'ZTPrivateRT' created and configured with ID: rtb-05b14c295e049e1ad\n",
      "Routes in the private route table: [{'DestinationCidrBlock': '10.0.0.0/16', 'GatewayId': 'local', 'Origin': 'CreateRouteTable', 'State': 'active'}, {'DestinationCidrBlock': '0.0.0.0/0', 'NatGatewayId': 'nat-0e6cd471e9b959a62', 'Origin': 'CreateRoute', 'State': 'active'}]\n"
     ]
    }
   ],
   "source": [
    "# Create and configure Private route table\n",
    "\n",
    "private_rt_name = \"ZTPrivateRT\"\n",
    "private_rt_response = ec2_client.create_route_table(\n",
    "    VpcId=value_store.get('vpc_id'),\n",
    "    TagSpecifications=[\n",
    "        {\n",
    "            'ResourceType': 'route-table',\n",
    "            'Tags': [\n",
    "                {\n",
    "                    'Key': 'Name',\n",
    "                    'Value': private_rt_name\n",
    "                }\n",
    "            ]\n",
    "        }\n",
    "    ]\n",
    ")\n",
    "private_rt_id = private_rt_response['RouteTable']['RouteTableId']\n",
    "\n",
    "# Create route to NAT Gateway\n",
    "ec2_client.create_route(\n",
    "    RouteTableId=private_rt_id, \n",
    "    DestinationCidrBlock='0.0.0.0/0', \n",
    "    NatGatewayId=nat_gateway_id\n",
    ")\n",
    "\n",
    "# Associate route table with private subnet\n",
    "ec2_client.associate_route_table(RouteTableId=private_rt_id, SubnetId=private_subnet_id)\n",
    "\n",
    "print(f\"Private route table '{private_rt_name}' created and configured with ID: {private_rt_id}\")\n",
    "\n",
    "# Optionally, you can describe the route table to verify its configuration\n",
    "routes = ec2_client.describe_route_tables(RouteTableIds=[private_rt_id])\n",
    "print(f\"Routes in the private route table: {routes['RouteTables'][0]['Routes']}\")"
   ]
  },
  {
   "cell_type": "markdown",
   "id": "e0933623-72a8-4675-b4bf-4b38b50538cd",
   "metadata": {
    "tags": []
   },
   "source": [
    "## Step 4: Create an Zero Trust Security Groups\n",
    "Let's create a security group that allows for following:\n",
    "1. FrontendSG: Allow traffic to port 80 from all locations\n",
    "2. BackendSG: Allow traffic to port 80 from instance that is assigned FrontendSG"
   ]
  },
  {
   "cell_type": "code",
   "execution_count": 22,
   "id": "c07d042d-57dc-4f5b-805e-6148c3dccb3b",
   "metadata": {
    "tags": []
   },
   "outputs": [
    {
     "name": "stdout",
     "output_type": "stream",
     "text": [
      "Frontend Server Security Group ID: sg-0d8bd15b4f70946ad\n",
      "Backend Server Security Group ID: sg-0473b986bfd7fc1f3\n"
     ]
    }
   ],
   "source": [
    "import boto3\n",
    "ec2_client = boto3.client('ec2')\n",
    "\n",
    "def create_security_groups(vpc_id):\n",
    "    # FRONTEND SECURITY GROUP\n",
    "    # Create Web Server Security Group\n",
    "    frontend_sg = ec2_client.create_security_group(\n",
    "        GroupName='FrontendSG',\n",
    "        Description='Allow HTTP access to web server',\n",
    "        VpcId=vpc_id\n",
    "    )\n",
    "    frontend_sg_id = frontend_sg['GroupId']\n",
    "    \n",
    "    # Add Name tag to Frontend Security Group\n",
    "    ec2_client.create_tags(\n",
    "        Resources=[frontend_sg_id],\n",
    "        Tags=[{'Key': 'Name', 'Value': 'FrontendSG'}]\n",
    "    )\n",
    "    \n",
    "    # Add inbound rule to allow HTTP traffic from anywhere\n",
    "    ec2_client.authorize_security_group_ingress(\n",
    "        GroupId=frontend_sg_id,\n",
    "        IpPermissions=[\n",
    "            {'IpProtocol': 'tcp', 'FromPort': 80, 'ToPort': 80, 'IpRanges': [{'CidrIp': '0.0.0.0/0'}]}\n",
    "        ]\n",
    "    )\n",
    "\n",
    "    # BACKEND SECURITY GROUP\n",
    "    # Create Backend Server Security Group\n",
    "    backend_sg = ec2_client.create_security_group(\n",
    "        GroupName='BackendSG',\n",
    "        Description='Allow access from web server to backend server',\n",
    "        VpcId=vpc_id\n",
    "    )\n",
    "    backend_sg_id = backend_sg['GroupId']\n",
    "    \n",
    "    # Add Name tag to Backend Security Group\n",
    "    ec2_client.create_tags(\n",
    "        Resources=[backend_sg_id],\n",
    "        Tags=[{'Key': 'Name', 'Value': 'BackendSG'}]\n",
    "    )\n",
    "    \n",
    "    # Add inbound rule to allow all TCP traffic from the frontend security group\n",
    "    ec2_client.authorize_security_group_ingress(\n",
    "        GroupId=backend_sg_id,\n",
    "        IpPermissions=[\n",
    "            {'IpProtocol': 'tcp', 'FromPort': 0, 'ToPort': 65535, 'UserIdGroupPairs': [{'GroupId': frontend_sg_id}]}\n",
    "        ]\n",
    "    )\n",
    "    value_store.set('frontend_sg_id', frontend_sg_id)\n",
    "    value_store.set('backend_sg_id', backend_sg_id)\n",
    "    \n",
    "    print(f\"Frontend Server Security Group ID: {frontend_sg_id}\")\n",
    "    print(f\"Backend Server Security Group ID: {backend_sg_id}\")\n",
    "    return frontend_sg_id, backend_sg_id\n",
    "\n",
    "# Usage example\n",
    "web_sg_id, backend_sg_id = create_security_groups(value_store.get('vpc_id'))"
   ]
  },
  {
   "cell_type": "markdown",
   "id": "f9feb09f-d793-429b-abfc-b3b6738b955f",
   "metadata": {
    "tags": []
   },
   "source": [
    "# Frontend and Backend Servers Setup\n",
    "\n",
    "This notebook sets up the frontend and backend servers."
   ]
  },
  {
   "cell_type": "markdown",
   "id": "e91dcfbf-3494-4fd6-ab6b-6f8643828a38",
   "metadata": {
    "tags": []
   },
   "source": [
    "## Step 1: Deploy Backend Server\n",
    "Now, let's deploy our backend server with a mock sensitive database."
   ]
  },
  {
   "cell_type": "code",
   "execution_count": 23,
   "id": "b60d8372-916d-4bd3-809f-4b9737311973",
   "metadata": {
    "tags": []
   },
   "outputs": [
    {
     "name": "stdout",
     "output_type": "stream",
     "text": [
      "Latest Amazon Linux 2 AMI ID: ami-0d7d857b0b59e8d60\n",
      "Using AMI ID: ami-0d7d857b0b59e8d60\n"
     ]
    }
   ],
   "source": [
    "# Function to fetch the latest Amazon Linux 2 AMI ID with error handling and fallback\n",
    "\n",
    "def get_latest_amazon_linux_2_ami():\n",
    "    try:\n",
    "        response = ec2_client.describe_images(\n",
    "            Owners=['amazon'],\n",
    "            Filters=[\n",
    "                {'Name': 'name', 'Values': ['amzn2-ami-hvm-*-x86_64-gp2']},\n",
    "                {'Name': 'state', 'Values': ['available']}\n",
    "            ]\n",
    "        )\n",
    "        \n",
    "        if not response['Images']:\n",
    "            print(\"No Amazon Linux 2 AMIs found. Falling back to a default AMI ID.\")\n",
    "            return 'ami-0caa0a2e2a99b8b82'  # This is a fallback AMI ID, replace with a known good one for your region\n",
    "        \n",
    "        # Sort the images by creation date\n",
    "        sorted_images = sorted(response['Images'], key=lambda x: x['CreationDate'], reverse=True)\n",
    "        latest_ami_id = sorted_images[0]['ImageId']\n",
    "        print(f\"Latest Amazon Linux 2 AMI ID: {latest_ami_id}\")\n",
    "        return latest_ami_id\n",
    "    \n",
    "    except Exception as e:\n",
    "        print(f\"An error occurred while fetching the latest AMI: {str(e)}\")\n",
    "        print(\"Falling back to a default AMI ID.\")\n",
    "        return 'ami-0caa0a2e2a99b8b82'  # This is a fallback AMI ID, replace with a known good one for your region\n",
    "\n",
    "# Get the latest Amazon Linux 2 AMI ID\n",
    "ami_id = get_latest_amazon_linux_2_ami()\n",
    "print(f\"Using AMI ID: {ami_id}\")"
   ]
  },
  {
   "cell_type": "code",
   "execution_count": 24,
   "id": "42040885-7c9e-4fc6-8e87-73ea08697339",
   "metadata": {
    "tags": []
   },
   "outputs": [],
   "source": [
    "# User data script for backend instance setup: installs and configures Apache with PHP\n",
    "\n",
    "backend_user_data = '''#!/bin/bash\n",
    "yum update -y\n",
    "yum install -y httpd php\n",
    "systemctl start httpd\n",
    "systemctl enable httpd\n",
    "cat <<'EOT' > /var/www/html/api.php\n",
    "<?php\n",
    "header('Content-Type: application/json');\n",
    "$headers = getallheaders();\n",
    "if (!isset($headers['Authorization'])) {\n",
    "  http_response_code(401);\n",
    "  echo json_encode(['error' => 'No token provided']);\n",
    "  exit;\n",
    "}\n",
    "$token = $headers['Authorization'];\n",
    "$payload = json_decode(base64_decode($token), true);\n",
    "if (!$payload || !isset($payload['exp']) || $payload['exp'] < time()) {\n",
    "  http_response_code(401);\n",
    "  echo json_encode(['error' => 'Invalid or expired token']);\n",
    "  exit;\n",
    "}\n",
    "echo json_encode(['sensitive' => 'This is sensitive data from the backend', 'user' => $payload['username']]);\n",
    "?>\n",
    "EOT\n",
    "chown apache:apache /var/www/html/api.php\n",
    "chmod 644 /var/www/html/api.php\n",
    "systemctl restart httpd\n",
    "'''"
   ]
  },
  {
   "cell_type": "code",
   "execution_count": 25,
   "id": "13414195-64e9-417a-8b4d-5957e73e6f07",
   "metadata": {
    "tags": []
   },
   "outputs": [
    {
     "name": "stdout",
     "output_type": "stream",
     "text": [
      "Backend server deployed with ID: i-0df499c7cfb3e4406\n"
     ]
    }
   ],
   "source": [
    "# Create and launch the backend EC2 instance with specified configuration\n",
    "# Only assign Private IP\n",
    "\n",
    "backend_instance = ec2_resource.create_instances(\n",
    "    ImageId=ami_id,  # Amazon Linux 2 AMI ID (replace with the latest)\n",
    "    InstanceType='t3.micro',\n",
    "    MaxCount=1,\n",
    "    MinCount=1,\n",
    "    NetworkInterfaces=[{\n",
    "        'SubnetId': private_subnet_id,\n",
    "        'DeviceIndex': 0,\n",
    "        'AssociatePublicIpAddress': False,\n",
    "        'Groups': [value_store.get('backend_sg_id')]\n",
    "    }],\n",
    "    UserData=backend_user_data,\n",
    "    TagSpecifications=[\n",
    "        {\n",
    "            'ResourceType': 'instance',\n",
    "            'Tags': [\n",
    "                {\n",
    "                    'Key': 'Name',\n",
    "                    'Value': 'BackendServer'\n",
    "                },\n",
    "            ]\n",
    "        },\n",
    "    ]\n",
    ")\n",
    "backend_id = backend_instance[0].id\n",
    "print(f\"Backend server deployed with ID: {backend_id}\")"
   ]
  },
  {
   "cell_type": "code",
   "execution_count": 26,
   "id": "bac50149-8b4f-4363-88bb-b560a47529b7",
   "metadata": {
    "tags": []
   },
   "outputs": [
    {
     "name": "stdout",
     "output_type": "stream",
     "text": [
      "Backend server private IP: 10.0.2.15\n",
      "Backend server does not have a public IP address.\n"
     ]
    }
   ],
   "source": [
    "# Wait for the instance to be running to get the IP addresses\n",
    "backend_instance[0].wait_until_running()\n",
    "backend_instance[0].reload()\n",
    "\n",
    "# Get private IP\n",
    "backend_private_ip = backend_instance[0].private_ip_address\n",
    "value_store.set('backend_private_ip', backend_private_ip)\n",
    "print(f\"Backend server private IP: {backend_private_ip}\")\n",
    "\n",
    "# Get public IP if it exists\n",
    "backend_public_ip = backend_instance[0].public_ip_address\n",
    "if backend_public_ip:\n",
    "    print(f\"Backend server public IP: {backend_public_ip}\")\n",
    "else:\n",
    "    print(\"Backend server does not have a public IP address.\")"
   ]
  },
  {
   "cell_type": "markdown",
   "id": "e2758fe0-a9a7-4a3b-82d6-4d532cefa840",
   "metadata": {},
   "source": [
    "## Step 2: Deploy Frontend Web Server\n",
    "Finally, let's deploy our public-facing web server."
   ]
  },
  {
   "cell_type": "code",
   "execution_count": 27,
   "id": "c7b38933-73e8-487e-9020-b8504ecfddfe",
   "metadata": {
    "tags": []
   },
   "outputs": [],
   "source": [
    "idp_url = value_store.get('idp_url')\n",
    "backend_private_ip = value_store.get('backend_private_ip')\n",
    "\n",
    "# User data script for frontend instance setup: installs and configures Apache with PHP\n",
    "# Create a simple login screen that will verify the credentials with Secrets Manager\n",
    "\n",
    "frontend_user_data = f'''#!/bin/bash\n",
    "yum update -y\n",
    "yum install -y httpd php php-curl\n",
    "systemctl start httpd\n",
    "systemctl enable httpd\n",
    "echo \"date.timezone = America/New_York\" >> /etc/php.ini\n",
    "cat <<EOT > /var/www/html/index.php\n",
    "<?php\n",
    "error_reporting(E_ALL);\n",
    "ini_set('display_errors', 1);\n",
    "session_start();\n",
    "\n",
    "\\$identity_provider_url = '{value_store.get('idp_url')}';\n",
    "\\$backend_ip = '{value_store.get('backend_private_ip')}';\n",
    "\\$error_message = '';\n",
    "\n",
    "if (isset(\\$_GET['reset_session'])) {{\n",
    "    session_unset();\n",
    "    session_destroy();\n",
    "    header(\"Location: index.php\");\n",
    "    exit();\n",
    "}}\n",
    "\n",
    "if (\\$_SERVER['REQUEST_METHOD'] === 'POST') {{\n",
    "    if (isset(\\$_POST['username']) && isset(\\$_POST['password'])) {{\n",
    "        \\$ch = curl_init(\\$identity_provider_url);\n",
    "        curl_setopt(\\$ch, CURLOPT_RETURNTRANSFER, true);\n",
    "        curl_setopt(\\$ch, CURLOPT_POST, true);\n",
    "        curl_setopt(\\$ch, CURLOPT_POSTFIELDS, json_encode([\n",
    "            'username' => \\$_POST['username'],\n",
    "            'password' => \\$_POST['password']\n",
    "        ]));\n",
    "        curl_setopt(\\$ch, CURLOPT_HTTPHEADER, ['Content-Type: application/json']);\n",
    "        \\$response = curl_exec(\\$ch);\n",
    "        \\$status_code = curl_getinfo(\\$ch, CURLINFO_HTTP_CODE);\n",
    "        curl_close(\\$ch);\n",
    "        \n",
    "        if (\\$status_code === 200) {{\n",
    "            \\$result = json_decode(\\$response, true);\n",
    "            \\$_SESSION['token'] = \\$result['token'];\n",
    "        }} else {{\n",
    "            \\$error_message = 'Invalid username or password. Please try again.';\n",
    "        }}\n",
    "    }}\n",
    "}}\n",
    "\n",
    "if (isset(\\$_SESSION['token'])) {{\n",
    "    \\$backend_url = \"http://\\$backend_ip/api.php\";\n",
    "    \\$ch = curl_init(\\$backend_url);\n",
    "    curl_setopt(\\$ch, CURLOPT_RETURNTRANSFER, true);\n",
    "    curl_setopt(\\$ch, CURLOPT_HTTPHEADER, [\n",
    "        \"Authorization: \" . \\$_SESSION['token']\n",
    "    ]);\n",
    "    \\$response = curl_exec(\\$ch);\n",
    "    \\$status_code = curl_getinfo(\\$ch, CURLINFO_HTTP_CODE);\n",
    "    curl_close(\\$ch);\n",
    "    \n",
    "    if (\\$status_code === 200) {{\n",
    "        \\$data = json_decode(\\$response, true);\n",
    "        echo \"<h1>Welcome to our Secure Web Server!</h1>\";\n",
    "        echo \"<h2>Your Session Token:</h2>\";\n",
    "        echo \"<pre>\" . \\$_SESSION['token'] . \"</pre>\";\n",
    "        echo \"<h2>Data from backend:</h2>\";\n",
    "        echo \"<pre>\" . print_r(\\$data, true) . \"</pre>\";\n",
    "        echo \"<p><a href='?reset_session=1'>Reset Session</a></p>\";\n",
    "    }} else {{\n",
    "        echo \"<h1>Error connecting to backend server</h1>\";\n",
    "        echo \"<p>Please check the backend server configuration.</p>\";\n",
    "        echo \"<p><a href='?reset_session=1'>Reset Session</a></p>\";\n",
    "    }}\n",
    "}} else {{\n",
    "    echo \"<h1>Please Log In</h1>\";\n",
    "    if (\\$error_message) {{\n",
    "        echo \"<p style='color: red;'>\\$error_message</p>\";\n",
    "    }}\n",
    "    echo \"<form method='post'>\";\n",
    "    echo \"Username: <input type='text' name='username'><br>\";\n",
    "    echo \"Password: <input type='password' name='password'><br>\";\n",
    "    echo \"<input type='submit' value='Log In'>\";\n",
    "    echo \"</form>\";\n",
    "}}\n",
    "?>\n",
    "EOT\n",
    "chown apache:apache /var/www/html/index.php\n",
    "chmod 644 /var/www/html/index.php\n",
    "systemctl restart httpd\n",
    "'''"
   ]
  },
  {
   "cell_type": "code",
   "execution_count": 28,
   "id": "6ca676b4-c24f-49e8-b4af-ef14a5aee5c8",
   "metadata": {
    "tags": []
   },
   "outputs": [
    {
     "name": "stdout",
     "output_type": "stream",
     "text": [
      "https://yc8tq94lw8.execute-api.us-west-2.amazonaws.com/prod/authenticate\n",
      "10.0.2.15\n"
     ]
    }
   ],
   "source": [
    "# Confirm the input variables\n",
    "\n",
    "print(value_store.get('idp_url'))\n",
    "print(value_store.get('backend_private_ip'))"
   ]
  },
  {
   "cell_type": "code",
   "execution_count": 29,
   "id": "5b59d3e1-fa8f-4608-8214-fa0c27755848",
   "metadata": {
    "tags": []
   },
   "outputs": [
    {
     "name": "stdout",
     "output_type": "stream",
     "text": [
      "Web server deployed with ID: i-0f56955b6d751e903\n"
     ]
    }
   ],
   "source": [
    "# Create and launch the frontend EC2 instance with specified configuration\n",
    "\n",
    "web_instance = ec2_resource.create_instances(\n",
    "    ImageId=ami_id,  # Amazon Linux 2 AMI ID (replace with the latest)\n",
    "    InstanceType='t3.micro',\n",
    "    MaxCount=1,\n",
    "    MinCount=1,\n",
    "    NetworkInterfaces=[{\n",
    "        'SubnetId': public_subnet_id,\n",
    "        'DeviceIndex': 0,\n",
    "        'AssociatePublicIpAddress': True,\n",
    "        'Groups': [value_store.get('frontend_sg_id')]\n",
    "    }],\n",
    "    UserData=frontend_user_data,\n",
    "    TagSpecifications=[\n",
    "        {\n",
    "            'ResourceType': 'instance',\n",
    "            'Tags': [\n",
    "                {\n",
    "                    'Key': 'Name',\n",
    "                    'Value': 'FrontendServer'\n",
    "                },\n",
    "            ]\n",
    "        },\n",
    "    ],\n",
    ")\n",
    "web_id = web_instance[0].id\n",
    "print(f\"Web server deployed with ID: {web_id}\")"
   ]
  },
  {
   "cell_type": "code",
   "execution_count": 30,
   "id": "cd4acb96-373e-474b-8ce1-fea7361607b2",
   "metadata": {
    "tags": []
   },
   "outputs": [
    {
     "name": "stdout",
     "output_type": "stream",
     "text": [
      "Web server private IP: 10.0.1.77\n",
      "Frontend Web server public IP: 35.93.98.159\n"
     ]
    }
   ],
   "source": [
    "# Wait for the instance to be running to get the IP addresses\n",
    "web_instance[0].wait_until_running()\n",
    "web_instance[0].reload()\n",
    "\n",
    "# Get private IP\n",
    "web_private_ip = web_instance[0].private_ip_address\n",
    "print(f\"Web server private IP: {web_private_ip}\")\n",
    "\n",
    "# Get public IP\n",
    "web_public_ip = web_instance[0].public_ip_address\n",
    "if web_public_ip:\n",
    "    print(f\"Frontend Web server public IP: {web_public_ip}\")\n",
    "else:\n",
    "    print(\"Frontend Web server does not have a public IP address.\")"
   ]
  },
  {
   "cell_type": "markdown",
   "id": "c0b34a50-10a3-46de-b0d8-38738ae4518e",
   "metadata": {
    "tags": []
   },
   "source": [
    "## Testing the Zero Trust-Secured System\n",
    "Now that our system is set up, let's test it by accessing the web server."
   ]
  },
  {
   "cell_type": "code",
   "execution_count": 31,
   "id": "96b4b8fc-5ac0-406c-861d-b1bd4ee681b3",
   "metadata": {
    "tags": []
   },
   "outputs": [
    {
     "name": "stdout",
     "output_type": "stream",
     "text": [
      "Current statuses: {'i-0df499c7cfb3e4406': {'instance_state': 'running', 'system_status': 'initializing', 'instance_status': 'initializing'}, 'i-0f56955b6d751e903': {'instance_state': 'running', 'system_status': 'initializing', 'instance_status': 'initializing'}}\n",
      "Waiting for EC2 instances ['i-0f56955b6d751e903', 'i-0df499c7cfb3e4406'] to pass system and instance checks...\n",
      "Current statuses: {'i-0df499c7cfb3e4406': {'instance_state': 'running', 'system_status': 'initializing', 'instance_status': 'initializing'}, 'i-0f56955b6d751e903': {'instance_state': 'running', 'system_status': 'initializing', 'instance_status': 'initializing'}}\n",
      "Waiting for EC2 instances ['i-0f56955b6d751e903', 'i-0df499c7cfb3e4406'] to pass system and instance checks...\n",
      "Current statuses: {'i-0df499c7cfb3e4406': {'instance_state': 'running', 'system_status': 'initializing', 'instance_status': 'initializing'}, 'i-0f56955b6d751e903': {'instance_state': 'running', 'system_status': 'initializing', 'instance_status': 'initializing'}}\n",
      "Waiting for EC2 instances ['i-0f56955b6d751e903', 'i-0df499c7cfb3e4406'] to pass system and instance checks...\n",
      "Current statuses: {'i-0df499c7cfb3e4406': {'instance_state': 'running', 'system_status': 'initializing', 'instance_status': 'initializing'}, 'i-0f56955b6d751e903': {'instance_state': 'running', 'system_status': 'initializing', 'instance_status': 'initializing'}}\n",
      "Waiting for EC2 instances ['i-0f56955b6d751e903', 'i-0df499c7cfb3e4406'] to pass system and instance checks...\n",
      "Current statuses: {'i-0df499c7cfb3e4406': {'instance_state': 'running', 'system_status': 'initializing', 'instance_status': 'initializing'}, 'i-0f56955b6d751e903': {'instance_state': 'running', 'system_status': 'initializing', 'instance_status': 'initializing'}}\n",
      "Waiting for EC2 instances ['i-0f56955b6d751e903', 'i-0df499c7cfb3e4406'] to pass system and instance checks...\n",
      "Current statuses: {'i-0df499c7cfb3e4406': {'instance_state': 'running', 'system_status': 'initializing', 'instance_status': 'initializing'}, 'i-0f56955b6d751e903': {'instance_state': 'running', 'system_status': 'initializing', 'instance_status': 'initializing'}}\n",
      "Waiting for EC2 instances ['i-0f56955b6d751e903', 'i-0df499c7cfb3e4406'] to pass system and instance checks...\n",
      "Current statuses: {'i-0df499c7cfb3e4406': {'instance_state': 'running', 'system_status': 'initializing', 'instance_status': 'initializing'}, 'i-0f56955b6d751e903': {'instance_state': 'running', 'system_status': 'initializing', 'instance_status': 'initializing'}}\n",
      "Waiting for EC2 instances ['i-0f56955b6d751e903', 'i-0df499c7cfb3e4406'] to pass system and instance checks...\n",
      "Current statuses: {'i-0df499c7cfb3e4406': {'instance_state': 'running', 'system_status': 'initializing', 'instance_status': 'initializing'}, 'i-0f56955b6d751e903': {'instance_state': 'running', 'system_status': 'initializing', 'instance_status': 'initializing'}}\n",
      "Waiting for EC2 instances ['i-0f56955b6d751e903', 'i-0df499c7cfb3e4406'] to pass system and instance checks...\n",
      "Current statuses: {'i-0df499c7cfb3e4406': {'instance_state': 'running', 'system_status': 'initializing', 'instance_status': 'initializing'}, 'i-0f56955b6d751e903': {'instance_state': 'running', 'system_status': 'initializing', 'instance_status': 'initializing'}}\n",
      "Waiting for EC2 instances ['i-0f56955b6d751e903', 'i-0df499c7cfb3e4406'] to pass system and instance checks...\n",
      "Current statuses: {'i-0df499c7cfb3e4406': {'instance_state': 'running', 'system_status': 'initializing', 'instance_status': 'initializing'}, 'i-0f56955b6d751e903': {'instance_state': 'running', 'system_status': 'initializing', 'instance_status': 'initializing'}}\n",
      "Waiting for EC2 instances ['i-0f56955b6d751e903', 'i-0df499c7cfb3e4406'] to pass system and instance checks...\n",
      "Current statuses: {'i-0df499c7cfb3e4406': {'instance_state': 'running', 'system_status': 'initializing', 'instance_status': 'initializing'}, 'i-0f56955b6d751e903': {'instance_state': 'running', 'system_status': 'initializing', 'instance_status': 'initializing'}}\n",
      "Waiting for EC2 instances ['i-0f56955b6d751e903', 'i-0df499c7cfb3e4406'] to pass system and instance checks...\n",
      "Current statuses: {'i-0df499c7cfb3e4406': {'instance_state': 'running', 'system_status': 'ok', 'instance_status': 'ok'}, 'i-0f56955b6d751e903': {'instance_state': 'running', 'system_status': 'ok', 'instance_status': 'initializing'}}\n",
      "Waiting for EC2 instances ['i-0f56955b6d751e903', 'i-0df499c7cfb3e4406'] to pass system and instance checks...\n",
      "Current statuses: {'i-0df499c7cfb3e4406': {'instance_state': 'running', 'system_status': 'ok', 'instance_status': 'ok'}, 'i-0f56955b6d751e903': {'instance_state': 'running', 'system_status': 'ok', 'instance_status': 'initializing'}}\n",
      "Waiting for EC2 instances ['i-0f56955b6d751e903', 'i-0df499c7cfb3e4406'] to pass system and instance checks...\n",
      "Current statuses: {'i-0df499c7cfb3e4406': {'instance_state': 'running', 'system_status': 'ok', 'instance_status': 'ok'}, 'i-0f56955b6d751e903': {'instance_state': 'running', 'system_status': 'ok', 'instance_status': 'initializing'}}\n",
      "Waiting for EC2 instances ['i-0f56955b6d751e903', 'i-0df499c7cfb3e4406'] to pass system and instance checks...\n",
      "Current statuses: {'i-0df499c7cfb3e4406': {'instance_state': 'running', 'system_status': 'ok', 'instance_status': 'ok'}, 'i-0f56955b6d751e903': {'instance_state': 'running', 'system_status': 'ok', 'instance_status': 'initializing'}}\n",
      "Waiting for EC2 instances ['i-0f56955b6d751e903', 'i-0df499c7cfb3e4406'] to pass system and instance checks...\n",
      "Current statuses: {'i-0df499c7cfb3e4406': {'instance_state': 'running', 'system_status': 'ok', 'instance_status': 'ok'}, 'i-0f56955b6d751e903': {'instance_state': 'running', 'system_status': 'ok', 'instance_status': 'initializing'}}\n",
      "Waiting for EC2 instances ['i-0f56955b6d751e903', 'i-0df499c7cfb3e4406'] to pass system and instance checks...\n",
      "Current statuses: {'i-0df499c7cfb3e4406': {'instance_state': 'running', 'system_status': 'ok', 'instance_status': 'ok'}, 'i-0f56955b6d751e903': {'instance_state': 'running', 'system_status': 'ok', 'instance_status': 'initializing'}}\n",
      "Waiting for EC2 instances ['i-0f56955b6d751e903', 'i-0df499c7cfb3e4406'] to pass system and instance checks...\n",
      "All instances ['i-0f56955b6d751e903', 'i-0df499c7cfb3e4406'] are fully initialized and passed all checks.\n",
      "Both EC2 instances are fully initialized!\n"
     ]
    }
   ],
   "source": [
    "# Wait for a bit to ensure the servers are fully initialized\n",
    "\n",
    "import time\n",
    "import boto3\n",
    "\n",
    "def wait_for_ec2_instances(instance_ids, region_name, timeout=300, interval=10):\n",
    "    \"\"\"\n",
    "    Waits for the given EC2 instances to pass system and instance status checks within a timeout period.\n",
    "\n",
    "    Args:\n",
    "        instance_ids (list): A list of EC2 instance IDs to check.\n",
    "        region_name (str): The AWS region where the instances are located.\n",
    "        timeout (int): The maximum time to wait (in seconds) before giving up.\n",
    "        interval (int): The time interval (in seconds) between status checks.\n",
    "\n",
    "    Returns:\n",
    "        bool: True if all instances pass system and instance checks within the timeout, False otherwise.\n",
    "    \"\"\"\n",
    "    ec2 = boto3.client('ec2', region_name=region_name)\n",
    "    start_time = time.time()\n",
    "\n",
    "    while time.time() - start_time < timeout:\n",
    "        # Check the status of the EC2 instances\n",
    "        response = ec2.describe_instance_status(InstanceIds=instance_ids)\n",
    "        \n",
    "        # Get the instance statuses\n",
    "        statuses = {instance['InstanceId']: {\n",
    "                        'instance_state': instance['InstanceState']['Name'],\n",
    "                        'system_status': instance['SystemStatus']['Status'],\n",
    "                        'instance_status': instance['InstanceStatus']['Status']\n",
    "                    }\n",
    "                    for instance in response['InstanceStatuses']}\n",
    "        \n",
    "        # Check if all instances are 'running' and both system and instance checks are 'ok'\n",
    "        \n",
    "\n",
    "        all_ready = all(\n",
    "            status['instance_state'] == 'running' and \n",
    "            status['system_status'] == 'ok' and \n",
    "            status['instance_status'] == 'ok'\n",
    "            for status in statuses.values()\n",
    "        )\n",
    "        \n",
    "        if all_ready:\n",
    "            print(f\"All instances {instance_ids} are fully initialized and passed all checks.\")\n",
    "            return True\n",
    "        \n",
    "        print(f\"Current statuses: {statuses}\")\n",
    "        print(f\"Waiting for EC2 instances {instance_ids} to pass system and instance checks...\")\n",
    "        time.sleep(interval)\n",
    "\n",
    "    print(f\"Timeout: EC2 instances {instance_ids} did not fully initialize within {timeout} seconds.\")\n",
    "    return False\n",
    "\n",
    "# IDs of front-end and back-end EC2 instances\n",
    "frontend_instance_id = web_id  # Replace with your front-end instance ID\n",
    "backend_instance_id = backend_id   # Replace with your back-end instance ID\n",
    "region = 'us-west-2'  # Replace with your region\n",
    "\n",
    "# Wait for both front-end and back-end instances to be fully initialized\n",
    "if wait_for_ec2_instances([frontend_instance_id, backend_instance_id], region_name=region):\n",
    "    print(\"Both EC2 instances are fully initialized!\")\n",
    "else:\n",
    "    print(\"One or both EC2 instances failed to fully initialize within the timeout.\")"
   ]
  },
  {
   "cell_type": "code",
   "execution_count": 32,
   "id": "018741eb-8319-475d-8def-d05c48b54eaa",
   "metadata": {
    "tags": []
   },
   "outputs": [
    {
     "name": "stdout",
     "output_type": "stream",
     "text": [
      "Frontend Web server public IP: 35.93.98.159\n",
      "Accessing the web server:\n",
      "<h1>Please Log In</h1><form method='post'>Username: <input type='text' name='username'><br>Password: <input type='password' name='password'><br><input type='submit' value='Log In'></form>\n"
     ]
    }
   ],
   "source": [
    "# Access the frontend web server\n",
    "\n",
    "import requests\n",
    "print(f\"Frontend Web server public IP: {web_public_ip}\")\n",
    "print(\"Accessing the web server:\")\n",
    "response = requests.get(f\"http://{web_public_ip}\")\n",
    "print(response.text)"
   ]
  },
  {
   "cell_type": "markdown",
   "id": "ed478068-4cd4-4f79-8667-cc556c701d55",
   "metadata": {
    "tags": []
   },
   "source": [
    "# Clean Up the Lab\n",
    "\n",
    "Clean up the lab environment and resources"
   ]
  },
  {
   "cell_type": "code",
   "execution_count": 35,
   "id": "19407c0e-5a57-49fa-8acb-bd35d7d8126f",
   "metadata": {
    "tags": []
   },
   "outputs": [
    {
     "name": "stdout",
     "output_type": "stream",
     "text": [
      "The SageMaker Notebook is using the IAM role: tcl-zt-stack-0201-SageMakerNotebookRole-Jd13SfXKp4dF\n",
      "Deleting EC2 instances...\n"
     ]
    },
    {
     "ename": "ClientError",
     "evalue": "An error occurred (UnauthorizedOperation) when calling the DescribeInstances operation: You are not authorized to perform this operation. User: arn:aws:sts::172872575382:assumed-role/tcl-zt-stack-0201-SageMakerNotebookRole-Jd13SfXKp4dF/SageMaker is not authorized to perform: ec2:DescribeInstances because no identity-based policy allows the ec2:DescribeInstances action",
     "output_type": "error",
     "traceback": [
      "\u001b[0;31m---------------------------------------------------------------------------\u001b[0m",
      "\u001b[0;31mClientError\u001b[0m                               Traceback (most recent call last)",
      "Cell \u001b[0;32mIn[35], line 297\u001b[0m\n\u001b[1;32m    294\u001b[0m     \u001b[38;5;28mprint\u001b[39m(\u001b[38;5;124m\"\u001b[39m\u001b[38;5;124mCleanup completed.\u001b[39m\u001b[38;5;124m\"\u001b[39m)\n\u001b[1;32m    296\u001b[0m \u001b[38;5;66;03m# Run the cleanup\u001b[39;00m\n\u001b[0;32m--> 297\u001b[0m \u001b[43mcleanup\u001b[49m\u001b[43m(\u001b[49m\u001b[43m)\u001b[49m\n",
      "Cell \u001b[0;32mIn[35], line 284\u001b[0m, in \u001b[0;36mcleanup\u001b[0;34m()\u001b[0m\n\u001b[1;32m    282\u001b[0m \u001b[38;5;28;01mdef\u001b[39;00m\u001b[38;5;250m \u001b[39m\u001b[38;5;21mcleanup\u001b[39m():\n\u001b[1;32m    283\u001b[0m     sagemaker_role_name \u001b[38;5;241m=\u001b[39m get_current_sagemaker_role()\n\u001b[0;32m--> 284\u001b[0m     \u001b[43mdelete_ec2_instances\u001b[49m\u001b[43m(\u001b[49m\u001b[43m)\u001b[49m\n\u001b[1;32m    285\u001b[0m     delete_nat_gateway()\n\u001b[1;32m    286\u001b[0m     delete_internet_gateway()\n",
      "Cell \u001b[0;32mIn[35], line 87\u001b[0m, in \u001b[0;36mdelete_ec2_instances\u001b[0;34m()\u001b[0m\n\u001b[1;32m     85\u001b[0m \u001b[38;5;28;01mdef\u001b[39;00m\u001b[38;5;250m \u001b[39m\u001b[38;5;21mdelete_ec2_instances\u001b[39m():\n\u001b[1;32m     86\u001b[0m     \u001b[38;5;28mprint\u001b[39m(\u001b[38;5;124m\"\u001b[39m\u001b[38;5;124mDeleting EC2 instances...\u001b[39m\u001b[38;5;124m\"\u001b[39m)\n\u001b[0;32m---> 87\u001b[0m     response \u001b[38;5;241m=\u001b[39m \u001b[43mec2\u001b[49m\u001b[38;5;241;43m.\u001b[39;49m\u001b[43mdescribe_instances\u001b[49m\u001b[43m(\u001b[49m\n\u001b[1;32m     88\u001b[0m \u001b[43m        \u001b[49m\u001b[43mFilters\u001b[49m\u001b[38;5;241;43m=\u001b[39;49m\u001b[43m[\u001b[49m\u001b[43m{\u001b[49m\u001b[38;5;124;43m'\u001b[39;49m\u001b[38;5;124;43mName\u001b[39;49m\u001b[38;5;124;43m'\u001b[39;49m\u001b[43m:\u001b[49m\u001b[43m \u001b[49m\u001b[38;5;124;43m'\u001b[39;49m\u001b[38;5;124;43minstance-state-name\u001b[39;49m\u001b[38;5;124;43m'\u001b[39;49m\u001b[43m,\u001b[49m\u001b[43m \u001b[49m\u001b[38;5;124;43m'\u001b[39;49m\u001b[38;5;124;43mValues\u001b[39;49m\u001b[38;5;124;43m'\u001b[39;49m\u001b[43m:\u001b[49m\u001b[43m \u001b[49m\u001b[43m[\u001b[49m\u001b[38;5;124;43m'\u001b[39;49m\u001b[38;5;124;43mpending\u001b[39;49m\u001b[38;5;124;43m'\u001b[39;49m\u001b[43m,\u001b[49m\u001b[43m \u001b[49m\u001b[38;5;124;43m'\u001b[39;49m\u001b[38;5;124;43mrunning\u001b[39;49m\u001b[38;5;124;43m'\u001b[39;49m\u001b[43m,\u001b[49m\u001b[43m \u001b[49m\u001b[38;5;124;43m'\u001b[39;49m\u001b[38;5;124;43mstopping\u001b[39;49m\u001b[38;5;124;43m'\u001b[39;49m\u001b[43m,\u001b[49m\u001b[43m \u001b[49m\u001b[38;5;124;43m'\u001b[39;49m\u001b[38;5;124;43mstopped\u001b[39;49m\u001b[38;5;124;43m'\u001b[39;49m\u001b[43m]\u001b[49m\u001b[43m}\u001b[49m\u001b[43m]\u001b[49m\n\u001b[1;32m     89\u001b[0m \u001b[43m    \u001b[49m\u001b[43m)\u001b[49m\n\u001b[1;32m     90\u001b[0m     instance_ids \u001b[38;5;241m=\u001b[39m [instance[\u001b[38;5;124m'\u001b[39m\u001b[38;5;124mInstanceId\u001b[39m\u001b[38;5;124m'\u001b[39m] \u001b[38;5;28;01mfor\u001b[39;00m reservation \u001b[38;5;129;01min\u001b[39;00m response[\u001b[38;5;124m'\u001b[39m\u001b[38;5;124mReservations\u001b[39m\u001b[38;5;124m'\u001b[39m] \u001b[38;5;28;01mfor\u001b[39;00m instance \u001b[38;5;129;01min\u001b[39;00m reservation[\u001b[38;5;124m'\u001b[39m\u001b[38;5;124mInstances\u001b[39m\u001b[38;5;124m'\u001b[39m]]\n\u001b[1;32m     91\u001b[0m     \u001b[38;5;28;01mif\u001b[39;00m instance_ids:\n",
      "File \u001b[0;32m~/anaconda3/envs/python3/lib/python3.10/site-packages/botocore/client.py:569\u001b[0m, in \u001b[0;36mClientCreator._create_api_method.<locals>._api_call\u001b[0;34m(self, *args, **kwargs)\u001b[0m\n\u001b[1;32m    565\u001b[0m     \u001b[38;5;28;01mraise\u001b[39;00m \u001b[38;5;167;01mTypeError\u001b[39;00m(\n\u001b[1;32m    566\u001b[0m         \u001b[38;5;124mf\u001b[39m\u001b[38;5;124m\"\u001b[39m\u001b[38;5;132;01m{\u001b[39;00mpy_operation_name\u001b[38;5;132;01m}\u001b[39;00m\u001b[38;5;124m() only accepts keyword arguments.\u001b[39m\u001b[38;5;124m\"\u001b[39m\n\u001b[1;32m    567\u001b[0m     )\n\u001b[1;32m    568\u001b[0m \u001b[38;5;66;03m# The \"self\" in this scope is referring to the BaseClient.\u001b[39;00m\n\u001b[0;32m--> 569\u001b[0m \u001b[38;5;28;01mreturn\u001b[39;00m \u001b[38;5;28;43mself\u001b[39;49m\u001b[38;5;241;43m.\u001b[39;49m\u001b[43m_make_api_call\u001b[49m\u001b[43m(\u001b[49m\u001b[43moperation_name\u001b[49m\u001b[43m,\u001b[49m\u001b[43m \u001b[49m\u001b[43mkwargs\u001b[49m\u001b[43m)\u001b[49m\n",
      "File \u001b[0;32m~/anaconda3/envs/python3/lib/python3.10/site-packages/botocore/client.py:1023\u001b[0m, in \u001b[0;36mBaseClient._make_api_call\u001b[0;34m(self, operation_name, api_params)\u001b[0m\n\u001b[1;32m   1019\u001b[0m     error_code \u001b[38;5;241m=\u001b[39m error_info\u001b[38;5;241m.\u001b[39mget(\u001b[38;5;124m\"\u001b[39m\u001b[38;5;124mQueryErrorCode\u001b[39m\u001b[38;5;124m\"\u001b[39m) \u001b[38;5;129;01mor\u001b[39;00m error_info\u001b[38;5;241m.\u001b[39mget(\n\u001b[1;32m   1020\u001b[0m         \u001b[38;5;124m\"\u001b[39m\u001b[38;5;124mCode\u001b[39m\u001b[38;5;124m\"\u001b[39m\n\u001b[1;32m   1021\u001b[0m     )\n\u001b[1;32m   1022\u001b[0m     error_class \u001b[38;5;241m=\u001b[39m \u001b[38;5;28mself\u001b[39m\u001b[38;5;241m.\u001b[39mexceptions\u001b[38;5;241m.\u001b[39mfrom_code(error_code)\n\u001b[0;32m-> 1023\u001b[0m     \u001b[38;5;28;01mraise\u001b[39;00m error_class(parsed_response, operation_name)\n\u001b[1;32m   1024\u001b[0m \u001b[38;5;28;01melse\u001b[39;00m:\n\u001b[1;32m   1025\u001b[0m     \u001b[38;5;28;01mreturn\u001b[39;00m parsed_response\n",
      "\u001b[0;31mClientError\u001b[0m: An error occurred (UnauthorizedOperation) when calling the DescribeInstances operation: You are not authorized to perform this operation. User: arn:aws:sts::172872575382:assumed-role/tcl-zt-stack-0201-SageMakerNotebookRole-Jd13SfXKp4dF/SageMaker is not authorized to perform: ec2:DescribeInstances because no identity-based policy allows the ec2:DescribeInstances action"
     ]
    }
   ],
   "source": [
    "import boto3\n",
    "import time\n",
    "import botocore\n",
    "import random\n",
    "import requests\n",
    "\n",
    "# Identify the role assigned to the sagemaker jupyter notebook\n",
    "def get_current_sagemaker_role():\n",
    "    \"\"\"\n",
    "    Automatically retrieve the IAM role attached to the running SageMaker Notebook instance.\n",
    "    \"\"\"\n",
    "    try:\n",
    "        # Get the notebook instance name from the SageMaker Notebook Metadata API\n",
    "        metadata_file = \"/opt/ml/metadata/resource-metadata.json\"\n",
    "        with open(metadata_file, \"r\") as f:\n",
    "            metadata = json.load(f)\n",
    "            notebook_instance_name = metadata[\"ResourceName\"]  # Fetching notebook instance name\n",
    "\n",
    "        # Fetch the IAM role from SageMaker\n",
    "        sagemaker = boto3.client('sagemaker')\n",
    "        response = sagemaker.describe_notebook_instance(NotebookInstanceName=notebook_instance_name)\n",
    "        notebook_role_arn = response['RoleArn']\n",
    "        notebook_role_name = notebook_role_arn.split('/')[-1]  # Extract role name from ARN\n",
    "\n",
    "        print(f\"The SageMaker Notebook is using the IAM role: {notebook_role_name}\")\n",
    "        return notebook_role_name\n",
    "\n",
    "    except (botocore.exceptions.ClientError, FileNotFoundError, json.JSONDecodeError) as e:\n",
    "        print(f\"Error fetching SageMaker Notebook role: {e}\")\n",
    "        return None  # Return None if unable to fetch the role\n",
    "\n",
    "\n",
    "# Initialize AWS clients\n",
    "ec2 = boto3.client('ec2')\n",
    "lambda_client = boto3.client('lambda')\n",
    "apigateway = boto3.client('apigateway')\n",
    "iam = boto3.client('iam')\n",
    "\n",
    "def wait_for_deletion(resource_type, resource_id, check_function, error_codes=None):\n",
    "    print(f\"Confirming deletion of {resource_type} {resource_id}...\")\n",
    "    max_attempts = 30\n",
    "    error_codes = error_codes or []\n",
    "    \n",
    "    for _ in range(max_attempts):\n",
    "        try:\n",
    "            if not check_function(resource_id):\n",
    "                print(f\"{resource_type} {resource_id} has been deleted.\")\n",
    "                return True\n",
    "        except botocore.exceptions.ClientError as e:\n",
    "            if e.response['Error']['Code'] in error_codes:\n",
    "                print(f\"{resource_type} {resource_id} has been deleted.\")\n",
    "                return True\n",
    "        print(f\"{resource_type} {resource_id} is still being deleted. Waiting...\")\n",
    "        time.sleep(10)\n",
    "    print(f\"Timeout waiting for {resource_type} {resource_id} to be deleted.\")\n",
    "    return False\n",
    "\n",
    "def delete_network_interfaces():\n",
    "    print(\"Deleting Network Interfaces (ENIs)...\")\n",
    "    response = ec2.describe_network_interfaces()\n",
    "    for eni in response['NetworkInterfaces']:\n",
    "        try:\n",
    "            ec2.delete_network_interface(NetworkInterfaceId=eni['NetworkInterfaceId'])\n",
    "            print(f\"Deleted ENI {eni['NetworkInterfaceId']}\")\n",
    "        except botocore.exceptions.ClientError as e:\n",
    "            print(f\"Error deleting ENI {eni['NetworkInterfaceId']}: {e}\")\n",
    "    print(\"Network Interfaces deletion attempted.\")\n",
    "\n",
    "def delete_security_groups():\n",
    "    print(\"Deleting security groups...\")\n",
    "    \n",
    "    # Ensure no ENIs depend on security groups\n",
    "    delete_network_interfaces()\n",
    "\n",
    "    response = ec2.describe_security_groups()\n",
    "    for sg in response['SecurityGroups']:\n",
    "        if sg['GroupName'] != 'default':\n",
    "            try:\n",
    "                ec2.delete_security_group(GroupId=sg['GroupId'])\n",
    "                print(f\"Security group {sg['GroupId']} deleted.\")\n",
    "            except botocore.exceptions.ClientError as e:\n",
    "                print(f\"Error deleting security group {sg['GroupId']}: {e}\")\n",
    "    print(\"Security group deletion attempted.\")\n",
    "\n",
    "def delete_ec2_instances():\n",
    "    print(\"Deleting EC2 instances...\")\n",
    "    response = ec2.describe_instances(\n",
    "        Filters=[{'Name': 'instance-state-name', 'Values': ['pending', 'running', 'stopping', 'stopped']}]\n",
    "    )\n",
    "    instance_ids = [instance['InstanceId'] for reservation in response['Reservations'] for instance in reservation['Instances']]\n",
    "    if instance_ids:\n",
    "        ec2.terminate_instances(InstanceIds=instance_ids)\n",
    "        waiter = ec2.get_waiter('instance_terminated')\n",
    "        waiter.wait(InstanceIds=instance_ids)\n",
    "    print(\"EC2 instances deleted.\")\n",
    "\n",
    "def delete_nat_gateway():\n",
    "    print(\"Deleting NAT Gateways...\")\n",
    "    response = ec2.describe_nat_gateways()\n",
    "\n",
    "    for nat_gateway in response['NatGateways']:\n",
    "        nat_gateway_id = nat_gateway['NatGatewayId']\n",
    "        \n",
    "        # Initiate deletion\n",
    "        ec2.delete_nat_gateway(NatGatewayId=nat_gateway_id)\n",
    "        print(f\"Initiated deletion of NAT Gateway {nat_gateway_id}...\")\n",
    "\n",
    "        # Wait for deletion to complete\n",
    "        max_attempts = 30\n",
    "        for attempt in range(max_attempts):\n",
    "            try:\n",
    "                response = ec2.describe_nat_gateways(NatGatewayIds=[nat_gateway_id])\n",
    "                state = response['NatGateways'][0]['State']\n",
    "                \n",
    "                if state == 'deleted':\n",
    "                    print(f\"NAT Gateway {nat_gateway_id} has been deleted.\")\n",
    "                    break  # Exit loop immediately\n",
    "                \n",
    "                print(f\"NAT Gateway {nat_gateway_id} is still in state '{state}'. Waiting...\")\n",
    "                time.sleep(10)\n",
    "            \n",
    "            except botocore.exceptions.ClientError as e:\n",
    "                if e.response['Error']['Code'] == 'NatGatewayNotFound':\n",
    "                    print(f\"NAT Gateway {nat_gateway_id} no longer exists.\")\n",
    "                    break  # Exit loop if NAT Gateway is completely removed\n",
    "                else:\n",
    "                    print(f\"Error checking NAT Gateway {nat_gateway_id}: {e}\")\n",
    "                    break\n",
    "\n",
    "    # Release Elastic IPs\n",
    "    response = ec2.describe_addresses()\n",
    "    for eip in response['Addresses']:\n",
    "        if 'AssociationId' not in eip:\n",
    "            ec2.release_address(AllocationId=eip['AllocationId'])\n",
    "            print(f\"Elastic IP {eip['AllocationId']} released.\")\n",
    "\n",
    "    print(\"NAT Gateways deleted and Elastic IPs released.\")\n",
    "\n",
    "def delete_internet_gateway():\n",
    "    print(\"Deleting Internet Gateways...\")\n",
    "    response = ec2.describe_internet_gateways()\n",
    "    for igw in response['InternetGateways']:\n",
    "        if igw['Attachments']:\n",
    "            for attachment in igw['Attachments']:\n",
    "                ec2.detach_internet_gateway(InternetGatewayId=igw['InternetGatewayId'], VpcId=attachment['VpcId'])\n",
    "                print(f\"Detached IGW {igw['InternetGatewayId']} from VPC {attachment['VpcId']}\")\n",
    "        ec2.delete_internet_gateway(InternetGatewayId=igw['InternetGatewayId'])\n",
    "        print(f\"Internet Gateway {igw['InternetGatewayId']} deleted.\")\n",
    "    print(\"Internet Gateways deleted.\")\n",
    "\n",
    "def delete_subnets():\n",
    "    print(\"Deleting subnets...\")\n",
    "    response = ec2.describe_subnets()\n",
    "    for subnet in response['Subnets']:\n",
    "        if not subnet['DefaultForAz']:\n",
    "            ec2.delete_subnet(SubnetId=subnet['SubnetId'])\n",
    "            print(f\"Subnet {subnet['SubnetId']} deleted.\")\n",
    "    print(\"Subnets deleted.\")\n",
    "\n",
    "def delete_route_tables():\n",
    "    print(\"Deleting route tables...\")\n",
    "    response = ec2.describe_route_tables()\n",
    "    for rt in response['RouteTables']:\n",
    "        if not rt.get('Associations') or not any(assoc.get('Main') for assoc in rt.get('Associations')):\n",
    "            ec2.delete_route_table(RouteTableId=rt['RouteTableId'])\n",
    "            print(f\"Route table {rt['RouteTableId']} deleted.\")\n",
    "    print(\"Route tables deleted.\")\n",
    "\n",
    "def delete_vpc():\n",
    "    print(\"Deleting VPCs...\")\n",
    "    response = ec2.describe_vpcs()\n",
    "    for vpc in response['Vpcs']:\n",
    "        if not vpc['IsDefault']:\n",
    "            try:\n",
    "                print(f\"Attempting to delete VPC {vpc['VpcId']}...\")\n",
    "                ec2.delete_vpc(VpcId=vpc['VpcId'])\n",
    "                wait_for_deletion('VPC', vpc['VpcId'], \n",
    "                                  lambda id: not bool(ec2.describe_vpcs(VpcIds=[id])['Vpcs']),\n",
    "                                  error_codes=['InvalidVpcID.NotFound'])\n",
    "            except botocore.exceptions.ClientError as e:\n",
    "                print(f\"Error deleting VPC {vpc['VpcId']}: {e}\")\n",
    "    print(\"VPC deletion completed.\")\n",
    "\n",
    "def delete_lambda_function():\n",
    "    print(\"Deleting Lambda functions...\")\n",
    "    lambda_functions = lambda_client.list_functions()\n",
    "    for function in lambda_functions['Functions']:\n",
    "        lambda_client.delete_function(FunctionName=function['FunctionName'])\n",
    "        print(f\"Lambda function {function['FunctionName']} deleted.\")\n",
    "    print(\"Lambda functions deleted.\")\n",
    "\n",
    "def delete_nat_gateway():\n",
    "    print(\"Deleting NAT Gateways...\")\n",
    "    response = ec2.describe_nat_gateways()\n",
    "\n",
    "    for nat_gateway in response['NatGateways']:\n",
    "        nat_gateway_id = nat_gateway['NatGatewayId']\n",
    "\n",
    "        # Initiate deletion\n",
    "        ec2.delete_nat_gateway(NatGatewayId=nat_gateway_id)\n",
    "        print(f\"Initiated deletion of NAT Gateway {nat_gateway_id}...\")\n",
    "\n",
    "        # Wait for deletion to complete\n",
    "        max_attempts = 30\n",
    "        for attempt in range(max_attempts):\n",
    "            try:\n",
    "                response = ec2.describe_nat_gateways(NatGatewayIds=[nat_gateway_id])\n",
    "                if not response['NatGateways']:  # If NAT Gateway is completely gone\n",
    "                    print(f\"NAT Gateway {nat_gateway_id} is fully deleted.\")\n",
    "                    break\n",
    "\n",
    "                state = response['NatGateways'][0]['State']\n",
    "                if state == 'deleted':\n",
    "                    print(f\"NAT Gateway {nat_gateway_id} is marked as deleted.\")\n",
    "                    break  # Exit loop once it's deleted\n",
    "                \n",
    "                print(f\"NAT Gateway {nat_gateway_id} is still in state '{state}'. Waiting...\")\n",
    "                time.sleep(10)\n",
    "            \n",
    "            except botocore.exceptions.ClientError as e:\n",
    "                if e.response['Error']['Code'] == 'NatGatewayNotFound':\n",
    "                    print(f\"NAT Gateway {nat_gateway_id} is no longer found. Fully deleted.\")\n",
    "                    break  # Exit loop if NAT Gateway is completely removed\n",
    "                else:\n",
    "                    print(f\"Error checking NAT Gateway {nat_gateway_id}: {e}\")\n",
    "                    break\n",
    "\n",
    "    # Release Elastic IPs\n",
    "    response = ec2.describe_addresses()\n",
    "    for eip in response['Addresses']:\n",
    "        if 'AssociationId' not in eip:\n",
    "            ec2.release_address(AllocationId=eip['AllocationId'])\n",
    "            print(f\"Elastic IP {eip['AllocationId']} released.\")\n",
    "\n",
    "    print(\"NAT Gateways deleted and Elastic IPs released.\")\n",
    "\n",
    "def delete_iam_role():\n",
    "    print(\"Deleting IAM roles...\")\n",
    "\n",
    "    # Auto-detect the current SageMaker Notebook IAM role\n",
    "    sagemaker_role_name = get_current_sagemaker_role()\n",
    "\n",
    "    roles = iam.list_roles()\n",
    "    for role in roles['Roles']:\n",
    "        role_name = role['RoleName']\n",
    "\n",
    "        # Skip AWS managed roles and the SageMaker IAM role\n",
    "        if role_name.startswith(\"AWSServiceRoleFor\") or role_name == sagemaker_role_name:\n",
    "            print(f\"Skipping protected or in-use IAM role {role_name}.\")\n",
    "            continue\n",
    "\n",
    "        try:\n",
    "            # Detach policies\n",
    "            attached_policies = iam.list_attached_role_policies(RoleName=role_name)\n",
    "            for policy in attached_policies['AttachedPolicies']:\n",
    "                iam.detach_role_policy(RoleName=role_name, PolicyArn=policy['PolicyArn'])\n",
    "                print(f\"Detached policy {policy['PolicyArn']} from role {role_name}.\")\n",
    "\n",
    "            # Remove role from instance profiles\n",
    "            instance_profiles = iam.list_instance_profiles_for_role(RoleName=role_name)\n",
    "            for profile in instance_profiles['InstanceProfiles']:\n",
    "                iam.remove_role_from_instance_profile(InstanceProfileName=profile['InstanceProfileName'], RoleName=role_name)\n",
    "                print(f\"Removed role {role_name} from instance profile {profile['InstanceProfileName']}.\")\n",
    "\n",
    "            # Delete the role\n",
    "            iam.delete_role(RoleName=role_name)\n",
    "            print(f\"IAM role {role_name} deleted.\")\n",
    "\n",
    "        except botocore.exceptions.ClientError as e:\n",
    "            error_code = e.response['Error']['Code']\n",
    "            if error_code == 'NoSuchEntityException':\n",
    "                print(f\"Role {role_name} does not exist, skipping.\")\n",
    "            elif error_code == 'UnmodifiableEntityException':\n",
    "                print(f\"Role {role_name} is protected and cannot be deleted, skipping.\")\n",
    "            elif error_code == 'DeleteConflict':\n",
    "                print(f\"Role {role_name} has dependencies and cannot be deleted now.\")\n",
    "            else:\n",
    "                print(f\"Error deleting IAM role {role_name}: {e}\")\n",
    "\n",
    "    print(\"IAM roles deletion attempted.\")\n",
    "\n",
    "def cleanup():\n",
    "    sagemaker_role_name = get_current_sagemaker_role()\n",
    "    delete_ec2_instances()\n",
    "    delete_nat_gateway()\n",
    "    delete_internet_gateway()\n",
    "    delete_subnets()\n",
    "    delete_route_tables()\n",
    "    delete_security_groups()\n",
    "    delete_vpc()\n",
    "    delete_lambda_function()\n",
    "    delete_api_gateway()\n",
    "    delete_iam_role()\n",
    "    print(\"Cleanup completed.\")\n",
    "\n",
    "# Run the cleanup\n",
    "cleanup()\n"
   ]
  },
  {
   "cell_type": "code",
   "execution_count": null,
   "id": "db6451e0-bc08-4152-8905-e9cc7e44c4a9",
   "metadata": {},
   "outputs": [],
   "source": []
  }
 ],
 "metadata": {
  "kernelspec": {
   "display_name": "conda_python3",
   "language": "python",
   "name": "conda_python3"
  },
  "language_info": {
   "codemirror_mode": {
    "name": "ipython",
    "version": 3
   },
   "file_extension": ".py",
   "mimetype": "text/x-python",
   "name": "python",
   "nbconvert_exporter": "python",
   "pygments_lexer": "ipython3",
   "version": "3.10.16"
  }
 },
 "nbformat": 4,
 "nbformat_minor": 5
}
