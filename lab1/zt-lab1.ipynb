{
 "cells": [
  {
   "cell_type": "markdown",
   "id": "1645e689-d84a-4c1f-b2d8-2f73730d1f38",
   "metadata": {},
   "source": [
    "# Unsecured System"
   ]
  },
  {
   "cell_type": "markdown",
   "id": "2aac57df-7e74-48e3-9c8d-e48034528e5d",
   "metadata": {
    "tags": []
   },
   "source": [
    "# Lab 1: Creating an Unsecured System\n",
    "\n",
    "## Introduction\n",
    "\n",
    "Welcome to the first lab of our Zero Trust course! In this lab, we'll set up a basic, unsecured system in AWS using AWS CLI commands and Python (boto3). This hands-on approach will help you understand each component of the system and why better security practices are necessary.\n",
    "\n",
    "## Objectives\n",
    "\n",
    "By the end of this lab, you will:\n",
    "1. Create a Virtual Private Cloud (VPC) with a public subnet\n",
    "2. Set up an Internet Gateway and configure routing\n",
    "3. Create a security group with unrestricted access\n",
    "4. Deploy a \"sensitive\" backend server\n",
    "5. Launch a public-facing web server\n"
   ]
  },
  {
   "cell_type": "markdown",
   "id": "42eb8e90-e1cf-43fc-bd19-bc4f266e7a67",
   "metadata": {},
   "source": [
    "![image.png](zt-lab1-insecure-network.png)"
   ]
  },
  {
   "cell_type": "markdown",
   "id": "7f19cba7-c02f-424d-b219-efde7c3fd763",
   "metadata": {
    "jp-MarkdownHeadingCollapsed": true,
    "tags": []
   },
   "source": [
    "## Setup\n",
    "\n",
    "First, let's set up our AWS environment. Make sure you have configured your AWS CLI with the appropriate credentials.\n"
   ]
  },
  {
   "cell_type": "code",
   "execution_count": null,
   "id": "648bf35d-fc61-4a21-928f-876a97c9e90c",
   "metadata": {
    "tags": []
   },
   "outputs": [],
   "source": [
    "# Import necessary AWS SDK and utility modules\n",
    "\n",
    "import boto3\n",
    "import json\n",
    "import time"
   ]
  },
  {
   "cell_type": "markdown",
   "id": "4d1309af-8817-444c-bbad-e3b0b2b376fd",
   "metadata": {
    "jp-MarkdownHeadingCollapsed": true,
    "tags": []
   },
   "source": [
    "## Set the AWS region\n",
    "\n",
    "Configure the AWS region to create the network and servers"
   ]
  },
  {
   "cell_type": "code",
   "execution_count": null,
   "id": "1d35c001-a93c-4144-891f-12264ca94f06",
   "metadata": {
    "tags": []
   },
   "outputs": [],
   "source": [
    "# Set the AWS region for resource creation (change as needed)\n",
    "\n",
    "region = 'us-west-2'"
   ]
  },
  {
   "cell_type": "markdown",
   "id": "31d71bdb-22b3-4cc5-ab78-f9ddf8b4cd94",
   "metadata": {
    "jp-MarkdownHeadingCollapsed": true,
    "tags": []
   },
   "source": [
    "## Initialize AWS clients\n",
    "\n",
    "Setup the necessary environment variables"
   ]
  },
  {
   "cell_type": "code",
   "execution_count": null,
   "id": "11bd1f06-03df-450d-9bfd-c59ef208f420",
   "metadata": {
    "tags": []
   },
   "outputs": [],
   "source": [
    "# Initialize EC2 client and resource objects for interacting with AWS\n",
    "\n",
    "ec2_client = boto3.client('ec2', region_name=region)\n",
    "ec2_resource = boto3.resource('ec2', region_name=region)\n",
    "\n",
    "print(f\"AWS environment initialized in region: {region}\")"
   ]
  },
  {
   "cell_type": "markdown",
   "id": "a6944f98-6e5c-4e49-995a-91ba52eba2b7",
   "metadata": {
    "jp-MarkdownHeadingCollapsed": true,
    "tags": []
   },
   "source": [
    "## Step 1: Create a VPC and Subnet\n",
    "\n",
    "Let's start by creating our Virtual Private Cloud (VPC) and a public subnet."
   ]
  },
  {
   "cell_type": "code",
   "execution_count": null,
   "id": "2dd692f7-9539-4760-b36f-5a275030bad4",
   "metadata": {
    "tags": []
   },
   "outputs": [],
   "source": [
    "# Create VPC\n",
    "\n",
    "vpc_response = ec2_client.create_vpc(CidrBlock='10.0.0.0/16')\n",
    "vpc_id = vpc_response['Vpc']['VpcId']\n",
    "ec2_client.create_tags(Resources=[vpc_id], Tags=[{'Key': 'Name', 'Value': 'UnsecuredVPC'}])\n",
    "print(f\"VPC created with ID: {vpc_id}\")"
   ]
  },
  {
   "cell_type": "markdown",
   "id": "b1ce9e41-1929-457c-8402-78f8a831b6c7",
   "metadata": {
    "tags": []
   },
   "source": [
    "### Access the VPC Service VPC Menu in AWS Management Console.\n",
    "#### It should look like below:\n",
    "![image.png](zt-lab1-image-vpcs-VPC-Console.jpeg)"
   ]
  },
  {
   "cell_type": "code",
   "execution_count": null,
   "id": "c77fe99f-7752-46e5-90b9-d4ef68387d75",
   "metadata": {
    "tags": []
   },
   "outputs": [],
   "source": [
    "# Create public subnet\n",
    "\n",
    "subnet_response = ec2_client.create_subnet(VpcId=vpc_id, CidrBlock='10.0.1.0/24')\n",
    "subnet_id = subnet_response['Subnet']['SubnetId']\n",
    "ec2_client.create_tags(Resources=[subnet_id], Tags=[{'Key': 'Name', 'Value': 'PublicSubnet'}])\n",
    "print(f\"Public subnet created with ID: {subnet_id}\")"
   ]
  },
  {
   "cell_type": "markdown",
   "id": "3ccf0d9d-22b7-4021-a126-87a25a0627d3",
   "metadata": {},
   "source": [
    "### Access the VPC Service Subnets Menu in AWS Management Console.\n",
    "#### It should look like below:\n",
    "![image.png](zt-lab1-image-subnets-VPC-Console.jpeg)"
   ]
  },
  {
   "cell_type": "markdown",
   "id": "7265d380-93c1-463c-ba93-ed5975c97ae9",
   "metadata": {
    "jp-MarkdownHeadingCollapsed": true,
    "tags": []
   },
   "source": [
    "## Step 2: Set up Internet Gateway and Routing\n",
    "\n",
    "Now, let's create an Internet Gateway and set up the routing table."
   ]
  },
  {
   "cell_type": "code",
   "execution_count": null,
   "id": "34c8d341-17c8-4940-8b37-6603a52f61ec",
   "metadata": {
    "tags": []
   },
   "outputs": [],
   "source": [
    "# Create Internet Gateway\n",
    "\n",
    "igw_name = \"UnsecuredIGW\"\n",
    "igw_response = ec2_client.create_internet_gateway(\n",
    "    TagSpecifications=[\n",
    "        {\n",
    "            'ResourceType': 'internet-gateway',\n",
    "            'Tags': [\n",
    "                {\n",
    "                    'Key': 'Name',\n",
    "                    'Value': igw_name\n",
    "                }\n",
    "            ]\n",
    "        }\n",
    "    ]\n",
    ")\n",
    "igw_id = igw_response['InternetGateway']['InternetGatewayId']\n",
    "ec2_client.attach_internet_gateway(InternetGatewayId=igw_id, VpcId=vpc_id)\n",
    "print(f\"Internet Gateway '{igw_name}' created and attached with ID: {igw_id}\")"
   ]
  },
  {
   "cell_type": "markdown",
   "id": "807c23f7-5561-4c6a-91e9-2f8f67f8c036",
   "metadata": {
    "jp-MarkdownHeadingCollapsed": true,
    "tags": []
   },
   "source": [
    "### Access the VPC Service Internet Gateways Menu in AWS Management Console.\n",
    "#### It should look like below:\n",
    "![image.png](zt-lab1-image-igws-VPC-Console.jpeg)"
   ]
  },
  {
   "cell_type": "code",
   "execution_count": null,
   "id": "6d57b579-1fe9-45ba-b7c3-6209b2498be5",
   "metadata": {
    "tags": []
   },
   "outputs": [],
   "source": [
    "# Create and configure route table\n",
    "\n",
    "rt_name = \"UnsecuredRT\"\n",
    "rt_response = ec2_client.create_route_table(\n",
    "    VpcId=vpc_id,\n",
    "    TagSpecifications=[\n",
    "        {\n",
    "            'ResourceType': 'route-table',\n",
    "            'Tags': [\n",
    "                {\n",
    "                    'Key': 'Name',\n",
    "                    'Value': rt_name\n",
    "                }\n",
    "            ]\n",
    "        }\n",
    "    ]\n",
    ")\n",
    "rt_id = rt_response['RouteTable']['RouteTableId']\n",
    "\n",
    "# Create route to Internet Gateway\n",
    "ec2_client.create_route(RouteTableId=rt_id, DestinationCidrBlock='0.0.0.0/0', GatewayId=igw_id)\n",
    "\n",
    "# Associate route table with subnet\n",
    "ec2_client.associate_route_table(RouteTableId=rt_id, SubnetId=subnet_id)\n",
    "\n",
    "print(f\"Route table '{rt_name}' created and configured with ID: {rt_id}\")"
   ]
  },
  {
   "cell_type": "markdown",
   "id": "71d723f9-0da0-47b8-b5fa-f7d5d6c2c25a",
   "metadata": {
    "jp-MarkdownHeadingCollapsed": true,
    "tags": []
   },
   "source": [
    "### Access the VPC Service Route Tables Menu in AWS Management Console.\n",
    "#### It should look like below:\n",
    "![image.png](zt-lab1-image-RouteTables-VPC-Console.png)"
   ]
  },
  {
   "cell_type": "markdown",
   "id": "f0006c6e-5af6-49e4-bd0a-d37d59990d13",
   "metadata": {
    "jp-MarkdownHeadingCollapsed": true,
    "tags": []
   },
   "source": [
    "## Step 3: Create an Unsecured Security Group\n",
    "\n",
    "Let's create a security group that allows all inbound traffic."
   ]
  },
  {
   "cell_type": "code",
   "execution_count": null,
   "id": "fe7474b2-a47e-48b4-8063-6368b41112d2",
   "metadata": {
    "tags": []
   },
   "outputs": [],
   "source": [
    "# Create Security Group allowing all traffic in and out\n",
    "\n",
    "sg_name = \"UnsecuredSG\"\n",
    "sg_response = ec2_client.create_security_group(\n",
    "    GroupName=sg_name,\n",
    "    Description='Allow all inbound traffic',\n",
    "    VpcId=vpc_id,\n",
    "    TagSpecifications=[\n",
    "        {\n",
    "            'ResourceType': 'security-group',\n",
    "            'Tags': [\n",
    "                {\n",
    "                    'Key': 'Name',\n",
    "                    'Value': sg_name\n",
    "                }\n",
    "            ]\n",
    "        }\n",
    "    ]\n",
    ")\n",
    "sg_id = sg_response['GroupId']\n",
    "\n",
    "# Configure security group rules\n",
    "ec2_client.authorize_security_group_ingress(\n",
    "    GroupId=sg_id,\n",
    "    IpPermissions=[\n",
    "        {'IpProtocol': '-1', 'FromPort': -1, 'ToPort': -1, 'IpRanges': [{'CidrIp': '0.0.0.0/0'}]}\n",
    "    ]\n",
    ")\n",
    "\n",
    "print(f\"Unsecured security group '{sg_name}' created with ID: {sg_id}\")"
   ]
  },
  {
   "cell_type": "markdown",
   "id": "f9c9cdba-6afc-4308-a119-c91eaf796359",
   "metadata": {},
   "source": [
    "### Access the VPC Security Groups Menu in AWS Management Console.\n",
    "#### It should look like below:\n",
    "![image.png](zt-lab1-image-SecurityGroups-VPC-Console.jpeg)"
   ]
  },
  {
   "cell_type": "markdown",
   "id": "05609785-438d-4d64-8372-6706374380a7",
   "metadata": {
    "jp-MarkdownHeadingCollapsed": true,
    "tags": []
   },
   "source": [
    "## Step 4: Deploy Backend Server\n",
    "\n",
    "Now, let's deploy our backend server with a mock sensitive database."
   ]
  },
  {
   "cell_type": "code",
   "execution_count": null,
   "id": "e710680e-9d0e-42c4-9c32-c93b59300ed6",
   "metadata": {
    "tags": []
   },
   "outputs": [],
   "source": [
    "# Function to fetch the latest Amazon Linux 2 AMI ID with error handling and fallback\n",
    "\n",
    "def get_latest_amazon_linux_2_ami():\n",
    "    try:\n",
    "        response = ec2_client.describe_images(\n",
    "            Owners=['amazon'],\n",
    "            Filters=[\n",
    "                {'Name': 'name', 'Values': ['amzn2-ami-hvm-*-x86_64-gp2']},\n",
    "                {'Name': 'state', 'Values': ['available']}\n",
    "            ]\n",
    "        )\n",
    "        \n",
    "        if not response['Images']:\n",
    "            print(\"No Amazon Linux 2 AMIs found. Falling back to a default AMI ID.\")\n",
    "            return 'ami-0caa0a2e2a99b8b82'  # This is a fallback AMI ID, replace with a known good one for your region\n",
    "        \n",
    "        # Sort the images by creation date\n",
    "        sorted_images = sorted(response['Images'], key=lambda x: x['CreationDate'], reverse=True)\n",
    "        latest_ami_id = sorted_images[0]['ImageId']\n",
    "        print(f\"Latest Amazon Linux 2 AMI ID: {latest_ami_id}\")\n",
    "        return latest_ami_id\n",
    "    \n",
    "    except Exception as e:\n",
    "        print(f\"An error occurred while fetching the latest AMI: {str(e)}\")\n",
    "        print(\"Falling back to a default AMI ID.\")\n",
    "        return 'ami-0caa0a2e2a99b8b82'  # This is a fallback AMI ID, replace with a known good one for your region\n",
    "\n",
    "# Get the latest Amazon Linux 2 AMI ID\n",
    "ami_id = get_latest_amazon_linux_2_ami()\n",
    "print(f\"Using AMI ID: {ami_id}\")"
   ]
  },
  {
   "cell_type": "code",
   "execution_count": null,
   "id": "1609fcf9-26dc-4812-b7bb-92c13bb43b12",
   "metadata": {
    "tags": []
   },
   "outputs": [],
   "source": [
    "# User data script for backend instance setup: installs and configures Apache with PHP\n",
    "\n",
    "backend_user_data = '''#!/bin/bash\n",
    "yum update -y\n",
    "yum install -y httpd php\n",
    "systemctl start httpd\n",
    "systemctl enable httpd\n",
    "cat <<EOF > /var/www/html/api.php\n",
    "<?php\n",
    "\\$data = ['sensitive' => 'This is sensitive data from the backend'];\n",
    "header('Content-Type: application/json');\n",
    "echo json_encode(\\$data);\n",
    "?>\n",
    "EOF\n",
    "'''"
   ]
  },
  {
   "cell_type": "code",
   "execution_count": null,
   "id": "80df0b5e-c331-41bf-b3f4-a42503dfe90b",
   "metadata": {
    "tags": []
   },
   "outputs": [],
   "source": [
    "# Create and launch the backend EC2 instance with specified configuration\n",
    "\n",
    "backend_instance = ec2_resource.create_instances(\n",
    "    ImageId=ami_id,  # Amazon Linux 2 AMI ID (replace with the latest)\n",
    "    InstanceType='t3.micro',\n",
    "    MaxCount=1,\n",
    "    MinCount=1,\n",
    "    NetworkInterfaces=[{\n",
    "        'SubnetId': subnet_id,\n",
    "        'DeviceIndex': 0,\n",
    "        'AssociatePublicIpAddress': True,\n",
    "        'Groups': [sg_id]\n",
    "    }],\n",
    "    UserData=backend_user_data,\n",
    "    TagSpecifications=[\n",
    "        {\n",
    "            'ResourceType': 'instance',\n",
    "            'Tags': [\n",
    "                {\n",
    "                    'Key': 'Name',\n",
    "                    'Value': 'BackendServer'\n",
    "                },\n",
    "            ]\n",
    "        },\n",
    "    ]\n",
    ")\n",
    "backend_id = backend_instance[0].id\n",
    "print(f\"Backend server deployed with ID: {backend_id}\")"
   ]
  },
  {
   "cell_type": "code",
   "execution_count": null,
   "id": "e3584e57-f7ed-4c11-953c-0a9b58e1688c",
   "metadata": {
    "tags": []
   },
   "outputs": [],
   "source": [
    "# Wait for the instance to be running to get the IP addresses\n",
    "backend_instance[0].wait_until_running()\n",
    "backend_instance[0].reload()\n",
    "\n",
    "# Get private IP\n",
    "backend_private_ip = backend_instance[0].private_ip_address\n",
    "print(f\"Backend server private IP: {backend_private_ip}\")\n",
    "\n",
    "# Get public IP if it exists\n",
    "backend_public_ip = backend_instance[0].public_ip_address\n",
    "if backend_public_ip:\n",
    "    print(f\"Backend server public IP: {backend_public_ip}\")\n",
    "else:\n",
    "    print(\"Backend server does not have a public IP address.\")"
   ]
  },
  {
   "cell_type": "markdown",
   "id": "6ab18d63-6d1e-49cf-a3b5-e73f8f528424",
   "metadata": {},
   "source": [
    "### Access the EC2 Security Groups Menu in AWS Management Console.\n",
    "#### It should look like below:\n",
    "![image.png](zt-lab1-image-Instances-EC2-us-west-2.jpeg)"
   ]
  },
  {
   "cell_type": "markdown",
   "id": "90883a84-2aad-4129-a13d-7f994bbdd1bc",
   "metadata": {
    "jp-MarkdownHeadingCollapsed": true,
    "tags": []
   },
   "source": [
    "## Step 5: Deploy Web Server\n",
    "\n",
    "Finally, let's deploy our public-facing web server."
   ]
  },
  {
   "cell_type": "code",
   "execution_count": null,
   "id": "64a6b8fa-decf-4575-8759-f3f615570877",
   "metadata": {
    "tags": []
   },
   "outputs": [],
   "source": [
    "# User data script for frontend instance setup: installs and configures Apache with PHP\n",
    "\n",
    "web_user_data = f'''#!/bin/bash\n",
    "yum update -y\n",
    "yum install -y httpd php\n",
    "systemctl start httpd\n",
    "systemctl enable httpd\n",
    "echo \"<?php\n",
    "\\\\$backend_ip = '{backend_private_ip}';\n",
    "\\\\$data = file_get_contents('http://' . \\\\$backend_ip . '/api.php');\n",
    "echo '<h1>Welcome to our Unsecured Web Server!</h1>';\n",
    "echo '<h2>Data from backend:</h2>';\n",
    "echo \\\\$data;\n",
    "?>\" > /var/www/html/index.php\n",
    "systemctl restart httpd\n",
    "'''"
   ]
  },
  {
   "cell_type": "code",
   "execution_count": null,
   "id": "82be1bb9-93c5-4992-be9a-7292ea91b0f2",
   "metadata": {
    "tags": []
   },
   "outputs": [],
   "source": [
    "# Create and launch the frontend EC2 instance with specified configuration\n",
    "\n",
    "web_instance = ec2_resource.create_instances(\n",
    "    ImageId=ami_id,  # Amazon Linux 2 AMI ID (replace with the latest)\n",
    "    InstanceType='t3.micro',\n",
    "    MaxCount=1,\n",
    "    MinCount=1,\n",
    "    NetworkInterfaces=[{\n",
    "        'SubnetId': subnet_id,\n",
    "        'DeviceIndex': 0,\n",
    "        'AssociatePublicIpAddress': True,\n",
    "        'Groups': [sg_id]\n",
    "    }],\n",
    "    UserData=web_user_data,\n",
    "    TagSpecifications=[\n",
    "        {\n",
    "            'ResourceType': 'instance',\n",
    "            'Tags': [\n",
    "                {\n",
    "                    'Key': 'Name',\n",
    "                    'Value': 'FrontendServer'\n",
    "                },\n",
    "            ]\n",
    "        },\n",
    "    ]\n",
    ")\n",
    "web_id = web_instance[0].id\n",
    "print(f\"Web server deployed with ID: {web_id}\")"
   ]
  },
  {
   "cell_type": "code",
   "execution_count": null,
   "id": "ea9ea803-cf65-460c-b80e-4a6c7bae1fef",
   "metadata": {
    "tags": []
   },
   "outputs": [],
   "source": [
    "# Wait for the instance to be running to get the IP addresses\n",
    "web_instance[0].wait_until_running()\n",
    "web_instance[0].reload()\n",
    "\n",
    "# Get private IP\n",
    "web_private_ip = web_instance[0].private_ip_address\n",
    "print(f\"Web server private IP: {web_private_ip}\")\n",
    "\n",
    "# Get public IP\n",
    "web_public_ip = web_instance[0].public_ip_address\n",
    "if web_public_ip:\n",
    "    print(f\"Web server public IP: {web_public_ip}\")\n",
    "else:\n",
    "    print(\"Web server does not have a public IP address.\")"
   ]
  },
  {
   "cell_type": "markdown",
   "id": "b92b073d-75c5-4cde-a48a-106033e6d790",
   "metadata": {},
   "source": [
    "### Access the EC2 Instances Menu in AWS Management Console.\n",
    "#### It should look like below:\n",
    "![image.png](zt-lab1-image-Instances2-EC2-us-west-2.jpeg)"
   ]
  },
  {
   "cell_type": "markdown",
   "id": "b2dfa7fb-cd2a-4b0c-88eb-5675ff4b0aed",
   "metadata": {
    "jp-MarkdownHeadingCollapsed": true,
    "tags": []
   },
   "source": [
    "## Testing the Unsecured System\n",
    "\n",
    "Now that our system is set up, let's test it by accessing the web server."
   ]
  },
  {
   "cell_type": "code",
   "execution_count": null,
   "id": "25c76b3e-5b5f-4757-826a-e91cfca592d9",
   "metadata": {
    "tags": []
   },
   "outputs": [],
   "source": [
    "# Wait for a bit to ensure the servers are fully initialized\n",
    "\n",
    "import time\n",
    "import boto3\n",
    "\n",
    "def wait_for_ec2_instances(instance_ids, region_name, timeout=300, interval=10):\n",
    "    \"\"\"\n",
    "    Waits for the given EC2 instances to pass system and instance status checks within a timeout period.\n",
    "\n",
    "    Args:\n",
    "        instance_ids (list): A list of EC2 instance IDs to check.\n",
    "        region_name (str): The AWS region where the instances are located.\n",
    "        timeout (int): The maximum time to wait (in seconds) before giving up.\n",
    "        interval (int): The time interval (in seconds) between status checks.\n",
    "\n",
    "    Returns:\n",
    "        bool: True if all instances pass system and instance checks within the timeout, False otherwise.\n",
    "    \"\"\"\n",
    "    ec2 = boto3.client('ec2', region_name=region_name)\n",
    "    start_time = time.time()\n",
    "\n",
    "    while time.time() - start_time < timeout:\n",
    "        # Check the status of the EC2 instances\n",
    "        response = ec2.describe_instance_status(InstanceIds=instance_ids)\n",
    "        \n",
    "        # Get the instance statuses\n",
    "        statuses = {instance['InstanceId']: {\n",
    "                        'instance_state': instance['InstanceState']['Name'],\n",
    "                        'system_status': instance['SystemStatus']['Status'],\n",
    "                        'instance_status': instance['InstanceStatus']['Status']\n",
    "                    }\n",
    "                    for instance in response['InstanceStatuses']}\n",
    "        \n",
    "        # Check if all instances are 'running' and both system and instance checks are 'ok'\n",
    "        all_ready = all(\n",
    "            status['instance_state'] == 'running' and \n",
    "            status['system_status'] == 'ok' and \n",
    "            status['instance_status'] == 'ok'\n",
    "            for status in statuses.values()\n",
    "        )\n",
    "        \n",
    "        if all_ready:\n",
    "            print(f\"All instances {instance_ids} are fully initialized and passed all checks.\")\n",
    "            return True\n",
    "        \n",
    "        print(f\"Current statuses: {statuses}\")\n",
    "        print(f\"Waiting for EC2 instances {instance_ids} to pass system and instance checks...\")\n",
    "        time.sleep(interval)\n",
    "\n",
    "    print(f\"Timeout: EC2 instances {instance_ids} did not fully initialize within {timeout} seconds.\")\n",
    "    return False\n",
    "\n",
    "# IDs of front-end and back-end EC2 instances\n",
    "frontend_instance_id = web_id  # Replace with your front-end instance ID\n",
    "backend_instance_id = backend_id   # Replace with your back-end instance ID\n",
    "region = 'us-west-2'  # Replace with your region\n",
    "\n",
    "# Wait for both front-end and back-end instances to be fully initialized\n",
    "if wait_for_ec2_instances([frontend_instance_id, backend_instance_id], region_name=region):\n",
    "    print(\"Both EC2 instances are fully initialized!\")\n",
    "else:\n",
    "    print(\"One or both EC2 instances failed to fully initialize within the timeout.\")\n"
   ]
  },
  {
   "cell_type": "code",
   "execution_count": null,
   "id": "eaee066e-860c-419c-bf6c-965887f96a39",
   "metadata": {
    "tags": []
   },
   "outputs": [],
   "source": [
    "# Access the web server\n",
    "\n",
    "import requests\n",
    "print(\"Accessing the web server:\")\n",
    "response = requests.get(f\"http://{web_public_ip}\")\n",
    "print(response.text)"
   ]
  },
  {
   "cell_type": "markdown",
   "id": "1c45164e-cf87-46ff-8874-81ec58e4073f",
   "metadata": {
    "tags": []
   },
   "source": [
    "### Access the frontend web server by entering the Public IP in a browser tab.\n",
    "#### It should look like below:\n",
    "![image.png](zt-lab1-image-frontend.jpeg)"
   ]
  },
  {
   "cell_type": "markdown",
   "id": "27d54b55-95fa-414a-90ca-c26cb64889af",
   "metadata": {
    "tags": []
   },
   "source": [
    "### Access the backend web server by entering the Public IP in a browser tab with /api.php\n",
    "#### It should look like below:\n",
    "![image.png](zt-lab1-image-backend.jpeg)"
   ]
  },
  {
   "cell_type": "markdown",
   "id": "3c32d26e-29fe-4bb2-b20d-37e92209ecfe",
   "metadata": {
    "jp-MarkdownHeadingCollapsed": true,
    "tags": []
   },
   "source": [
    "## Conclusion\n",
    "\n",
    "In this lab, we've set up an unsecured system in AWS and explored its components. We've seen how easy it is to access sensitive information due to the lack of proper security measures. In the upcoming labs, we'll start implementing Zero Trust principles to secure this system."
   ]
  },
  {
   "cell_type": "markdown",
   "id": "bb43f2f5-644a-45c3-bd74-f16aff7f9369",
   "metadata": {
    "jp-MarkdownHeadingCollapsed": true,
    "tags": []
   },
   "source": [
    "## Cleanup\n",
    "\n",
    "To avoid unnecessary charges, let's clean up our resources:"
   ]
  },
  {
   "cell_type": "code",
   "execution_count": null,
   "id": "a89003dc-2045-4c9a-8852-8f5d90ce64c5",
   "metadata": {
    "tags": []
   },
   "outputs": [],
   "source": [
    "import time\n",
    "\n",
    "# Terminate EC2 instances\n",
    "ec2_client.terminate_instances(InstanceIds=[backend_id, web_id])\n",
    "print(\"EC2 instance termination initiated.\")\n",
    "\n",
    "# Wait for instances to fully terminate\n",
    "def is_terminated(instance_id):\n",
    "    response = ec2_client.describe_instances(InstanceIds=[instance_id])\n",
    "    state = response['Reservations'][0]['Instances'][0]['State']['Name']\n",
    "    return state == 'terminated'\n",
    "\n",
    "print(\"Waiting for instances to fully terminate...\")\n",
    "while not (is_terminated(backend_id) and is_terminated(web_id)):\n",
    "    time.sleep(10)  # Wait for 10 seconds before checking again\n",
    "    print(\"Still waiting...\")\n",
    "\n",
    "print(\"All EC2 instances have been terminated.\")"
   ]
  },
  {
   "cell_type": "code",
   "execution_count": null,
   "id": "5517bee6-1825-423d-a1dc-99dd29b0c64c",
   "metadata": {
    "tags": []
   },
   "outputs": [],
   "source": [
    "# Delete security group\n",
    "ec2_client.delete_security_group(GroupId=sg_id)\n",
    "print(\"Security group deleted.\")"
   ]
  },
  {
   "cell_type": "code",
   "execution_count": null,
   "id": "9d98ecfb-28f2-4f05-9144-e9ddb3a64441",
   "metadata": {
    "tags": []
   },
   "outputs": [],
   "source": [
    "# Delete route table association\n",
    "rt_associations = ec2_client.describe_route_tables(RouteTableIds=[rt_id])['RouteTables'][0]['Associations']\n",
    "for assoc in rt_associations:\n",
    "    if assoc['SubnetId'] == subnet_id:\n",
    "        ec2_client.disassociate_route_table(AssociationId=assoc['RouteTableAssociationId'])\n",
    "ec2_client.delete_route_table(RouteTableId=rt_id)\n",
    "print(\"Route table deleted.\")"
   ]
  },
  {
   "cell_type": "code",
   "execution_count": null,
   "id": "bc323c58-e592-4d55-ae4e-913efb51d956",
   "metadata": {
    "tags": []
   },
   "outputs": [],
   "source": [
    "# Detach and delete Internet Gateway\n",
    "ec2_client.detach_internet_gateway(InternetGatewayId=igw_id, VpcId=vpc_id)\n",
    "ec2_client.delete_internet_gateway(InternetGatewayId=igw_id)\n",
    "print(\"Internet Gateway deleted.\")"
   ]
  },
  {
   "cell_type": "code",
   "execution_count": null,
   "id": "94d45245-89be-4c8f-97f5-3ce912ee133c",
   "metadata": {
    "tags": []
   },
   "outputs": [],
   "source": [
    "# Delete subnet\n",
    "ec2_client.delete_subnet(SubnetId=subnet_id)\n",
    "print(\"Subnet deleted.\")"
   ]
  },
  {
   "cell_type": "code",
   "execution_count": null,
   "id": "6e76713f-a095-4e60-a41b-9c8e294a35cb",
   "metadata": {
    "tags": []
   },
   "outputs": [],
   "source": [
    "# Delete VPC\n",
    "ec2_client.delete_vpc(VpcId=vpc_id)\n",
    "print(\"VPC deleted.\")"
   ]
  },
  {
   "cell_type": "code",
   "execution_count": null,
   "id": "2e536465-9748-401d-933c-33ccc271f405",
   "metadata": {
    "tags": []
   },
   "outputs": [],
   "source": [
    "print(\"All resources have been cleaned up.\")"
   ]
  },
  {
   "cell_type": "code",
   "execution_count": null,
   "id": "7cfd54fc-fae9-43c4-8ebe-8f2c12b78c38",
   "metadata": {},
   "outputs": [],
   "source": []
  }
 ],
 "metadata": {
  "kernelspec": {
   "display_name": "conda_python3",
   "language": "python",
   "name": "conda_python3"
  },
  "language_info": {
   "codemirror_mode": {
    "name": "ipython",
    "version": 3
   },
   "file_extension": ".py",
   "mimetype": "text/x-python",
   "name": "python",
   "nbconvert_exporter": "python",
   "pygments_lexer": "ipython3",
   "version": "3.10.14"
  },
  "vscode": {
   "interpreter": {
    "hash": "31f2aee4e71d21fbe5cf8b01ff0e069b9275f58929596ceb00d14d90e3e16cd6"
   }
  }
 },
 "nbformat": 4,
 "nbformat_minor": 5
}
