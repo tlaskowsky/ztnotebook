{
 "cells": [
  {
   "cell_type": "markdown",
   "id": "02813111-8988-4792-b127-b5bf101f47d2",
   "metadata": {},
   "source": [
    "# Traditional Perimeter-Based Security"
   ]
  },
  {
   "cell_type": "markdown",
   "id": "4b257db5",
   "metadata": {},
   "source": [
    "# Lab 3: Creating a Traditionally-Secured System\n",
    "\n",
    "## Introduction\n",
    "\n",
    "Welcome to the lab of our Zero Trust course! In this lab, we'll set up a basic, traditionally-secured system in AWS using AWS CLI commands and Python (boto3). This hands-on approach will help you understand each component of the system and why better security practices are necessary.\n",
    "\n",
    "![image.png](zt-lab3-image-simulation.png)\n",
    "**Try the simulation here [NetworkSecurityDemo](https://pfjzerotrust.s3.amazonaws.com/tradsecdemo/index.html)**\n",
    "**ID: admin, PW: password123**\n",
    "\n",
    "\n",
    "## Objectives\n",
    "\n",
    "By the end of this lab, you will:\n",
    "1. Create a Virtual Private Cloud (VPC) with a public and private subnets\n",
    "2. Set up an Internet Gateway and configure routing\n",
    "3. Setup a NAT Gateway\n",
    "3. Create a security group with restricted access\n",
    "4. Setup Secrets Manager\n",
    "5. Deploy a \"sensitive\" backend server\n",
    "6. Launch a public-facing web server\n",
    "7. (not implemented) CloudTrail (API log) and CloudWatch (Metric and Event Monitoring) for ovservability\n",
    "\n",
    "![image.png](zt-lab3-image-cover.png)\n"
   ]
  },
  {
   "cell_type": "markdown",
   "id": "5ccd6822-6196-41f3-9dd4-fac67a61bdbe",
   "metadata": {
    "jp-MarkdownHeadingCollapsed": true,
    "tags": []
   },
   "source": [
    "## Setup\n",
    "\n",
    "First, let's set up our AWS environment. Make sure you have configured your AWS CLI with the appropriate credentials."
   ]
  },
  {
   "cell_type": "code",
   "execution_count": null,
   "id": "a20f8a52",
   "metadata": {
    "tags": []
   },
   "outputs": [],
   "source": [
    "# Import necessary AWS SDK and utility modules\n",
    "\n",
    "import boto3\n",
    "import json\n",
    "import time"
   ]
  },
  {
   "cell_type": "markdown",
   "id": "d5c62ce6",
   "metadata": {
    "jp-MarkdownHeadingCollapsed": true,
    "tags": []
   },
   "source": [
    "## Set the AWS region\n",
    "Configure the AWS region to create the network and servers"
   ]
  },
  {
   "cell_type": "code",
   "execution_count": null,
   "id": "79884d93",
   "metadata": {
    "tags": []
   },
   "outputs": [],
   "source": [
    "# Set the AWS region for resource creation (change as needed)\n",
    "\n",
    "region = 'us-west-2'"
   ]
  },
  {
   "cell_type": "markdown",
   "id": "d1c72f6a",
   "metadata": {
    "jp-MarkdownHeadingCollapsed": true,
    "tags": []
   },
   "source": [
    "## Initialize AWS clients\n",
    "Setup the necessary environment variables"
   ]
  },
  {
   "cell_type": "code",
   "execution_count": null,
   "id": "d19cc4a7",
   "metadata": {
    "tags": []
   },
   "outputs": [],
   "source": [
    "# Initialize EC2 client and resource objects for interacting with AWS\n",
    "\n",
    "ec2_client = boto3.client('ec2', region_name=region)\n",
    "ec2_resource = boto3.resource('ec2', region_name=region)\n",
    "secretsmanager = boto3.client('secretsmanager', region_name=region)\n",
    "iam = boto3.client('iam', region_name=region)\n",
    "\n",
    "print(f\"AWS environment initialized in region: {region}\")"
   ]
  },
  {
   "cell_type": "markdown",
   "id": "094b1a7c-bf3b-454e-ae5d-7fafe94a1444",
   "metadata": {
    "jp-MarkdownHeadingCollapsed": true,
    "tags": []
   },
   "source": [
    "## Initialize Value Store\n",
    "Initialize long-term storage"
   ]
  },
  {
   "cell_type": "code",
   "execution_count": null,
   "id": "98e034b3-7b4c-453b-96c7-802fc2a344a6",
   "metadata": {
    "tags": []
   },
   "outputs": [],
   "source": [
    "class ValueStore:\n",
    "    _instance = None\n",
    "    \n",
    "    def __new__(cls):\n",
    "        if cls._instance is None:\n",
    "            cls._instance = super(ValueStore, cls).__new__(cls)\n",
    "            cls._instance.store = {}\n",
    "        return cls._instance\n",
    "    \n",
    "    def set(self, key, value):\n",
    "        self.store[key] = value\n",
    "        \n",
    "    def get(self, key, default=None):\n",
    "        return self.store.get(key, default)\n",
    "    \n",
    "    def print_all(self):\n",
    "        for key, value in self.store.items():\n",
    "            print(f\"{key}: {value}\")\n",
    "\n",
    "# Create a global instance\n",
    "value_store = ValueStore()\n",
    "\n",
    "# Test the ValueStore\n",
    "value_store.set('test_key', 'test_value')\n",
    "print(value_store.get('test_key'))  # Should print: test_value"
   ]
  },
  {
   "cell_type": "markdown",
   "id": "57bd0d72",
   "metadata": {
    "jp-MarkdownHeadingCollapsed": true,
    "tags": []
   },
   "source": [
    "## Step 1: Create a VPC and Subnet\n",
    "Let's start by creating our Virtual Private Cloud (VPC) and a public subnet."
   ]
  },
  {
   "cell_type": "code",
   "execution_count": null,
   "id": "02a6cb2e",
   "metadata": {
    "tags": []
   },
   "outputs": [],
   "source": [
    "# Create VPC\n",
    "\n",
    "vpc_response = ec2_client.create_vpc(CidrBlock='10.0.0.0/16')\n",
    "vpc_id = vpc_response['Vpc']['VpcId']\n",
    "ec2_client.create_tags(Resources=[vpc_id], Tags=[{'Key': 'Name', 'Value': 'TraditionalSecuredVPC'}])\n",
    "\n",
    "value_store.set('vpc_id', vpc_id)\n",
    "\n",
    "print(f\"VPC created with ID: {vpc_id}\")"
   ]
  },
  {
   "cell_type": "markdown",
   "id": "fafaee81",
   "metadata": {
    "tags": []
   },
   "source": [
    "### Access the VPC - VPC Menu in AWS Management Console.\n",
    "\n",
    "#### It should look like below:\n",
    "\n",
    "![image.png](zt-lab3-image-vpcs-VPC-Console.jpeg)"
   ]
  },
  {
   "cell_type": "code",
   "execution_count": null,
   "id": "4830c36b",
   "metadata": {
    "tags": []
   },
   "outputs": [],
   "source": [
    "# Get available Availability Zones\n",
    "\n",
    "available_azs = ec2_client.describe_availability_zones()['AvailabilityZones']\n",
    "az = available_azs[0]['ZoneName']  # Choose the first available AZ\n",
    "\n",
    "# Create Public subnet\n",
    "public_subnet_response = ec2_client.create_subnet(\n",
    "    VpcId=value_store.get('vpc_id'),\n",
    "    CidrBlock='10.0.1.0/24',\n",
    "    AvailabilityZone=az,\n",
    "    TagSpecifications=[\n",
    "        {\n",
    "            'ResourceType': 'subnet',\n",
    "            'Tags': [\n",
    "                {\n",
    "                    'Key': 'Name',\n",
    "                    'Value': 'PublicSubnet'\n",
    "                }\n",
    "            ]\n",
    "        }\n",
    "    ]\n",
    ")\n",
    "public_subnet_id = public_subnet_response['Subnet']['SubnetId']\n",
    "print(f\"Public subnet created with ID: {public_subnet_id} in Availability Zone: {az}\")\n",
    "\n",
    "# Enable auto-assign public IP for the public subnet\n",
    "ec2_client.modify_subnet_attribute(\n",
    "    SubnetId=public_subnet_id,\n",
    "    MapPublicIpOnLaunch={'Value': True}\n",
    ")\n",
    "print(\"Auto-assign public IP enabled for the public subnet\")"
   ]
  },
  {
   "cell_type": "code",
   "execution_count": null,
   "id": "642bc0d7-b031-49b7-99d4-4da704dc1b51",
   "metadata": {
    "tags": []
   },
   "outputs": [],
   "source": [
    "# First, let's find the public subnet ID\n",
    "public_subnets = ec2_client.describe_subnets(\n",
    "    Filters=[\n",
    "        {'Name': 'vpc-id', 'Values': [vpc_id]},\n",
    "        {'Name': 'tag:Name', 'Values': ['PublicSubnet']}\n",
    "    ]\n",
    ")['Subnets']\n",
    "\n",
    "if not public_subnets:\n",
    "    raise ValueError(\"No public subnet found. Please ensure you've created a public subnet with the tag 'Name: PublicSubnet'\")\n",
    "\n",
    "public_subnet_id = public_subnets[0]['SubnetId']\n",
    "public_subnet_az = public_subnets[0]['AvailabilityZone']\n",
    "\n",
    "print(f\"Found public subnet with ID: {public_subnet_id} in Availability Zone: {public_subnet_az}\")\n",
    "\n",
    "# Now create the Private subnet in the same Availability Zone\n",
    "private_subnet_response = ec2_client.create_subnet(\n",
    "    VpcId=value_store.get('vpc_id'), \n",
    "    CidrBlock='10.0.2.0/24',  # Different CIDR block for the private subnet\n",
    "    AvailabilityZone=public_subnet_az,\n",
    "    TagSpecifications=[\n",
    "        {\n",
    "            'ResourceType': 'subnet',\n",
    "            'Tags': [\n",
    "                {\n",
    "                    'Key': 'Name',\n",
    "                    'Value': 'PrivateSubnet'\n",
    "                }\n",
    "            ]\n",
    "        }\n",
    "    ]\n",
    ")\n",
    "private_subnet_id = private_subnet_response['Subnet']['SubnetId']\n",
    "print(f\"Private subnet created with ID: {private_subnet_id} in the same AZ as the public subnet: {public_subnet_az}\")\n",
    "\n",
    "# Modify the private subnet to disable auto-assign public IP\n",
    "ec2_client.modify_subnet_attribute(SubnetId=private_subnet_id, MapPublicIpOnLaunch={'Value': False})\n",
    "print(\"Auto-assign public IP disabled for the private subnet\")"
   ]
  },
  {
   "cell_type": "markdown",
   "id": "45de9f37",
   "metadata": {
    "tags": []
   },
   "source": [
    "### Access the VPC - Subnets Menu in AWS Management Console.\n",
    "\n",
    "#### It should look like below:\n",
    "\n",
    "##### Public Subnet\n",
    "\n",
    "![image.png](zt-lab3-image-pubsubnets-VPC-Console.jpeg)\n",
    "\n",
    "##### Private Subnet\n",
    "\n",
    "![image.png](zt-lab3-image-pvtsubnets-VPC-Console.jpeg)"
   ]
  },
  {
   "cell_type": "markdown",
   "id": "ab1c4b1b",
   "metadata": {
    "jp-MarkdownHeadingCollapsed": true,
    "tags": []
   },
   "source": [
    "## Step 2: Set up Internet Gateway\n",
    "Now, let's create an Internet Gateway."
   ]
  },
  {
   "cell_type": "code",
   "execution_count": null,
   "id": "3736ac7f",
   "metadata": {
    "tags": []
   },
   "outputs": [],
   "source": [
    "# Create Internet Gateway\n",
    "igw_name = \"TraditionalSecuredIGW\"\n",
    "igw_response = ec2_client.create_internet_gateway(\n",
    "    TagSpecifications=[\n",
    "        {\n",
    "            'ResourceType': 'internet-gateway',\n",
    "            'Tags': [\n",
    "                {\n",
    "                    'Key': 'Name',\n",
    "                    'Value': igw_name\n",
    "                }\n",
    "            ]\n",
    "        }\n",
    "    ]\n",
    ")\n",
    "igw_id = igw_response['InternetGateway']['InternetGatewayId']\n",
    "ec2_client.attach_internet_gateway(InternetGatewayId=igw_id, VpcId=value_store.get('vpc_id'))\n",
    "print(f\"Internet Gateway '{igw_name}' created and attached with ID: {igw_id}\")"
   ]
  },
  {
   "cell_type": "markdown",
   "id": "92949b24-c338-4486-9e6f-0cf564867396",
   "metadata": {
    "tags": []
   },
   "source": [
    "### Access the VPC - Internet Gateways Menu in AWS Management Console.\n",
    "\n",
    "#### It should look like below:\n",
    "\n",
    "![image.png](zt-lab3-image-igws-VPC-Console.jpeg)"
   ]
  },
  {
   "cell_type": "markdown",
   "id": "a80ae820-32d1-4d41-92b6-4b346b62392e",
   "metadata": {
    "jp-MarkdownHeadingCollapsed": true,
    "tags": []
   },
   "source": [
    "## Step 3: Set up NAT Gateway\n",
    "Next, let's create a NAT Gateway (Network Address Translation) to give instances in private subnet access to the Internet."
   ]
  },
  {
   "cell_type": "code",
   "execution_count": null,
   "id": "d956e112-015b-49e5-8992-7f6260478acb",
   "metadata": {
    "tags": []
   },
   "outputs": [],
   "source": [
    "# Setup NAT Gateway\n",
    "# Note: This will take a few minutes\n",
    "\n",
    "def setup_nat_gateway(vpc_id, public_subnet_id, nat_gateway_name=\"TraditionalSecuredNATGW\"):\n",
    "    # Create Elastic IP\n",
    "    eip = ec2_client.allocate_address(Domain='vpc')\n",
    "    \n",
    "    # Create NAT Gateway with a name tag\n",
    "    nat_gateway = ec2_client.create_nat_gateway(\n",
    "        SubnetId=public_subnet_id,\n",
    "        AllocationId=eip['AllocationId'],\n",
    "        TagSpecifications=[\n",
    "            {\n",
    "                'ResourceType': 'natgateway',\n",
    "                'Tags': [\n",
    "                    {\n",
    "                        'Key': 'Name',\n",
    "                        'Value': nat_gateway_name\n",
    "                    }\n",
    "                ]\n",
    "            }\n",
    "        ]\n",
    "    )\n",
    "    \n",
    "    # Wait for the NAT Gateway to be available\n",
    "    waiter = ec2_client.get_waiter('nat_gateway_available')\n",
    "    waiter.wait(\n",
    "        NatGatewayIds=[nat_gateway['NatGateway']['NatGatewayId']],\n",
    "        WaiterConfig={'Delay': 30, 'MaxAttempts': 10}\n",
    "    )\n",
    "    \n",
    "    print(f\"NAT Gateway '{nat_gateway_name}' created with ID: {nat_gateway['NatGateway']['NatGatewayId']}\")\n",
    "    return nat_gateway['NatGateway']['NatGatewayId']\n",
    "\n",
    "# Create the NAT Gateway\n",
    "nat_gateway_id = setup_nat_gateway(value_store.get('vpc_id'), public_subnet_id)\n",
    "print(f\"NAT Gateway setup complete with ID: {nat_gateway_id}\")"
   ]
  },
  {
   "cell_type": "markdown",
   "id": "c4633db0",
   "metadata": {},
   "source": [
    "### Access the VPC - NAT Gateways Menu in AWS Management Console.\n",
    "\n",
    "#### It should look like below:\n",
    "\n",
    "![image.png](zt-lab3-image-NatGateways-VPC-Console.jpeg)"
   ]
  },
  {
   "cell_type": "code",
   "execution_count": null,
   "id": "f79cf4ac",
   "metadata": {
    "tags": []
   },
   "outputs": [],
   "source": [
    "# Create and configure Public route table\n",
    "\n",
    "rt_name = \"TraditionalSecuredPublicRT\"\n",
    "rt_response = ec2_client.create_route_table(\n",
    "    VpcId=value_store.get('vpc_id'),\n",
    "    TagSpecifications=[\n",
    "        {\n",
    "            'ResourceType': 'route-table',\n",
    "            'Tags': [\n",
    "                {\n",
    "                    'Key': 'Name',\n",
    "                    'Value': rt_name\n",
    "                }\n",
    "            ]\n",
    "        }\n",
    "    ]\n",
    ")\n",
    "rt_id = rt_response['RouteTable']['RouteTableId']\n",
    "\n",
    "# Create route to Internet Gateway\n",
    "ec2_client.create_route(RouteTableId=rt_id, DestinationCidrBlock='0.0.0.0/0', GatewayId=igw_id)\n",
    "\n",
    "# Associate route table with subnet\n",
    "ec2_client.associate_route_table(RouteTableId=rt_id, SubnetId=public_subnet_id)\n",
    "\n",
    "print(f\"Route table '{rt_name}' created and configured with ID: {rt_id}\")"
   ]
  },
  {
   "cell_type": "markdown",
   "id": "d0413634",
   "metadata": {
    "tags": []
   },
   "source": [
    "### Access the VPC - Public Route Tables Menu in AWS Management Console.\n",
    "\n",
    "#### It should look like below:\n",
    "\n",
    "![image.png](zt-lab3-image-PublicRouteTables-VPC-Console.jpeg)"
   ]
  },
  {
   "cell_type": "code",
   "execution_count": null,
   "id": "0638c71a-5000-4f8a-a004-0e66f8284c49",
   "metadata": {},
   "outputs": [],
   "source": [
    "# Create and configure Private route table\n",
    "\n",
    "private_rt_name = \"TraditionalSecuredPrivateRT\"\n",
    "private_rt_response = ec2_client.create_route_table(\n",
    "    VpcId=value_store.get('vpc_id'),\n",
    "    TagSpecifications=[\n",
    "        {\n",
    "            'ResourceType': 'route-table',\n",
    "            'Tags': [\n",
    "                {\n",
    "                    'Key': 'Name',\n",
    "                    'Value': private_rt_name\n",
    "                }\n",
    "            ]\n",
    "        }\n",
    "    ]\n",
    ")\n",
    "private_rt_id = private_rt_response['RouteTable']['RouteTableId']\n",
    "\n",
    "# Create route to NAT Gateway\n",
    "ec2_client.create_route(\n",
    "    RouteTableId=private_rt_id, \n",
    "    DestinationCidrBlock='0.0.0.0/0', \n",
    "    NatGatewayId=nat_gateway_id\n",
    ")\n",
    "\n",
    "# Associate route table with private subnet\n",
    "ec2_client.associate_route_table(RouteTableId=private_rt_id, SubnetId=private_subnet_id)\n",
    "\n",
    "print(f\"Private route table '{private_rt_name}' created and configured with ID: {private_rt_id}\")\n",
    "\n",
    "# Optionally, you can describe the route table to verify its configuration\n",
    "routes = ec2_client.describe_route_tables(RouteTableIds=[private_rt_id])\n",
    "print(f\"Routes in the private route table: {routes['RouteTables'][0]['Routes']}\")"
   ]
  },
  {
   "cell_type": "markdown",
   "id": "6de5602a-3517-4a14-9dd3-a2d8b40c4921",
   "metadata": {},
   "source": [
    "### Access the VPC - Private Route Tables Menu in AWS Management Console.\n",
    "\n",
    "#### It should look like below:\n",
    "\n",
    "![image.png](zt-lab3-image-PrivateRouteTables-VPC-Console.png)"
   ]
  },
  {
   "cell_type": "markdown",
   "id": "fa92be17",
   "metadata": {
    "jp-MarkdownHeadingCollapsed": true,
    "tags": []
   },
   "source": [
    "## Step 4: Create an Traditional Secured Security Groups\n",
    "Let's create a security group that allows for following:\n",
    "1. FrontendSG: Allow traffic to port 80 from all locations\n",
    "2. BackendSG: Allow traffic to pourt 80 from instance that is assigned FrontendSG"
   ]
  },
  {
   "cell_type": "code",
   "execution_count": null,
   "id": "8065c049-91a2-4411-9de6-b92890b7bfcd",
   "metadata": {
    "tags": []
   },
   "outputs": [],
   "source": [
    "import boto3\n",
    "ec2_client = boto3.client('ec2')\n",
    "\n",
    "def create_security_groups(vpc_id):\n",
    "    # FRONTEND SECURITY GROUP\n",
    "    # Create Web Server Security Group\n",
    "    frontend_sg = ec2_client.create_security_group(\n",
    "        GroupName='FrontendSG',\n",
    "        Description='Allow HTTP access to web server',\n",
    "        VpcId=vpc_id\n",
    "    )\n",
    "    frontend_sg_id = frontend_sg['GroupId']\n",
    "    \n",
    "    # Add Name tag to Frontend Security Group\n",
    "    ec2_client.create_tags(\n",
    "        Resources=[frontend_sg_id],\n",
    "        Tags=[{'Key': 'Name', 'Value': 'FrontendSG'}]\n",
    "    )\n",
    "    \n",
    "    # Add inbound rule to allow HTTP traffic from anywhere\n",
    "    ec2_client.authorize_security_group_ingress(\n",
    "        GroupId=frontend_sg_id,\n",
    "        IpPermissions=[\n",
    "            {'IpProtocol': 'tcp', 'FromPort': 80, 'ToPort': 80, 'IpRanges': [{'CidrIp': '0.0.0.0/0'}]}\n",
    "        ]\n",
    "    )\n",
    "\n",
    "    # BACKEND SECURITY GROUP\n",
    "    # Create Backend Server Security Group\n",
    "    backend_sg = ec2_client.create_security_group(\n",
    "        GroupName='BackendSG',\n",
    "        Description='Allow access from web server to backend server',\n",
    "        VpcId=vpc_id\n",
    "    )\n",
    "    backend_sg_id = backend_sg['GroupId']\n",
    "    \n",
    "    # Add Name tag to Backend Security Group\n",
    "    ec2_client.create_tags(\n",
    "        Resources=[backend_sg_id],\n",
    "        Tags=[{'Key': 'Name', 'Value': 'BackendSG'}]\n",
    "    )\n",
    "    \n",
    "    # Add inbound rule to allow all TCP traffic from the frontend security group\n",
    "    ec2_client.authorize_security_group_ingress(\n",
    "        GroupId=backend_sg_id,\n",
    "        IpPermissions=[\n",
    "            {'IpProtocol': 'tcp', 'FromPort': 0, 'ToPort': 65535, 'UserIdGroupPairs': [{'GroupId': frontend_sg_id}]}\n",
    "        ]\n",
    "    )\n",
    "    value_store.set('frontend_sg_id', frontend_sg_id)\n",
    "    value_store.set('backend_sg_id', backend_sg_id)\n",
    "    \n",
    "    print(f\"Frontend Server Security Group ID: {frontend_sg_id}\")\n",
    "    print(f\"Backend Server Security Group ID: {backend_sg_id}\")\n",
    "    return frontend_sg_id, backend_sg_id\n",
    "\n",
    "# Usage example\n",
    "web_sg_id, backend_sg_id = create_security_groups(value_store.get('vpc_id'))"
   ]
  },
  {
   "cell_type": "markdown",
   "id": "6c8aa51a-cf86-476c-8fa6-b4a466d49a59",
   "metadata": {
    "tags": []
   },
   "source": [
    "### Access the VPC - Security Groups Menu in AWS Management Console.\n",
    "\n",
    "#### It should look like below:\n",
    "\n",
    "##### Frontend SG\n",
    "\n",
    "![image.png](zt-lab3-image-FESecurity-groups-EC2-us-west-2.jpeg)\n",
    "\n",
    "##### Backend SG\n",
    "\n",
    "![image.png](zt-lab3-image-BESecurity-groups-EC2-us-west-2.jpeg)"
   ]
  },
  {
   "cell_type": "markdown",
   "id": "edde4ad5-29d7-4ead-a845-424948eca095",
   "metadata": {
    "tags": []
   },
   "source": [
    "## Step 5: Setup AWS Secrets Manager\n",
    "\n",
    "Let's create a secret in AWS Secrets Manager to store our web server credentials.\n",
    "\n",
    "Username: admin\n",
    "Password: password123"
   ]
  },
  {
   "cell_type": "code",
   "execution_count": null,
   "id": "c5ab1a29-e49f-4c7c-bbae-f0c42d5eb4d2",
   "metadata": {
    "tags": []
   },
   "outputs": [],
   "source": [
    "# Setup the username and password for accessing the sensitive data\n",
    "\n",
    "import random\n",
    "import string\n",
    "\n",
    "def generate_unique_name(base_name, length=8):\n",
    "    random_suffix = ''.join(random.choices(string.ascii_lowercase + string.digits, k=length))\n",
    "    return f\"{base_name}-{random_suffix}\"\n",
    "\n",
    "def setup_secrets_manager():\n",
    "    secret_name = generate_unique_name('WebServerCredentials')\n",
    "    secret_value = json.dumps({\n",
    "        'username': 'admin',\n",
    "        'password': 'password123'  # In a real scenario, use a strong, randomly generated password\n",
    "    })\n",
    "    \n",
    "    secret = secretsmanager.create_secret(\n",
    "        Name=secret_name,\n",
    "        Description='Credentials for Web Server authentication',\n",
    "        SecretString=secret_value\n",
    "    )\n",
    "    \n",
    "    print(f\"Secret created with ARN: {secret['ARN']}\")\n",
    "    print(f\"Secret Name: {secret_name}\")\n",
    "    return secret['ARN'], secret_name\n",
    "\n",
    "secret_arn, secret_name = setup_secrets_manager()"
   ]
  },
  {
   "cell_type": "markdown",
   "id": "3e944cde-ba0b-4bee-b363-3da6ce021a2d",
   "metadata": {},
   "source": [
    "### Access the Secrets Manager - Sectets Menu in AWS Management Console.\n",
    "\n",
    "#### It should look like below:\n",
    "\n",
    "![image.png](zt-lab3-image-WebServerCredentials-Secrets-Manager-Secrets-Manager-us-west-2.jpeg)"
   ]
  },
  {
   "cell_type": "markdown",
   "id": "eb924ece-524b-42d2-9653-9b06533a02f5",
   "metadata": {
    "jp-MarkdownHeadingCollapsed": true,
    "tags": []
   },
   "source": [
    "## Step 6: Create IAM Role for Web Server\n",
    "\n",
    "Now, let's create an IAM role that allows the web server to access the secret we just created."
   ]
  },
  {
   "cell_type": "code",
   "execution_count": null,
   "id": "808659da-be24-4ff9-812d-522634ee2884",
   "metadata": {
    "tags": []
   },
   "outputs": [],
   "source": [
    "def create_iam_role(secret_arn):\n",
    "    import random\n",
    "    import string\n",
    "    def generate_unique_name(base_name, length=8):\n",
    "        random_suffix = ''.join(random.choices(string.ascii_lowercase + string.digits, k=length))\n",
    "        return f\"{base_name}-{random_suffix}\"\n",
    "    \n",
    "    role_name = generate_unique_name('WebServerRole')\n",
    "    policy_name = generate_unique_name('WebServerSecretAccess')\n",
    "    instance_profile_name = generate_unique_name('WebServerInstanceProfile')\n",
    "    \n",
    "    assume_role_policy = json.dumps({\n",
    "        \"Version\": \"2012-10-17\",\n",
    "        \"Statement\": [\n",
    "            {\n",
    "                \"Effect\": \"Allow\",\n",
    "                \"Principal\": {\"Service\": \"ec2.amazonaws.com\"},\n",
    "                \"Action\": \"sts:AssumeRole\"\n",
    "            }\n",
    "        ]\n",
    "    })\n",
    "    \n",
    "    role = iam.create_role(\n",
    "        RoleName=role_name,\n",
    "        AssumeRolePolicyDocument=assume_role_policy\n",
    "    )\n",
    "    \n",
    "    policy = iam.create_policy(\n",
    "        PolicyName=policy_name,\n",
    "        PolicyDocument=json.dumps({\n",
    "            \"Version\": \"2012-10-17\",\n",
    "            \"Statement\": [\n",
    "                {\n",
    "                    \"Effect\": \"Allow\",\n",
    "                    \"Action\": \"secretsmanager:GetSecretValue\",\n",
    "                    \"Resource\": secret_arn\n",
    "                }\n",
    "            ]\n",
    "        })\n",
    "    )\n",
    "    \n",
    "    iam.attach_role_policy(\n",
    "        RoleName=role_name,\n",
    "        PolicyArn=policy['Policy']['Arn']\n",
    "    )\n",
    "    \n",
    "    # Create an instance profile and add the role to it\n",
    "    instance_profile = iam.create_instance_profile(InstanceProfileName=instance_profile_name)\n",
    "    iam.add_role_to_instance_profile(InstanceProfileName=instance_profile_name, RoleName=role_name)\n",
    "    \n",
    "    print(f\"IAM Role created: {role['Role']['Arn']}\")\n",
    "    print(f\"Role Name: {role_name}\")\n",
    "    print(f\"Policy Name: {policy_name}\")\n",
    "    print(f\"Instance Profile Name: {instance_profile_name}\")\n",
    "    print(f\"Instance Profile ARN: {instance_profile['InstanceProfile']['Arn']}\")\n",
    "    \n",
    "    return role['Role']['Arn'], role_name, policy_name, instance_profile['InstanceProfile']['Arn']\n",
    "\n",
    "role_arn, role_name, policy_name, instance_profile_arn = create_iam_role(secret_arn)"
   ]
  },
  {
   "cell_type": "markdown",
   "id": "2bf01ec8-40f5-4d29-ade6-73b56653ba01",
   "metadata": {},
   "source": [
    "### Access the IAM - Role Menu in AWS Management Console.\n",
    "\n",
    "#### It should look like below:\n",
    "\n",
    "![image.png](zt-lab3-image-WebServerRole-IAM-Global.jpeg)"
   ]
  },
  {
   "cell_type": "markdown",
   "id": "a027c6fa",
   "metadata": {
    "jp-MarkdownHeadingCollapsed": true,
    "tags": []
   },
   "source": [
    "## Step 7: Deploy Backend Server\n",
    "Now, let's deploy our backend server with a mock sensitive database."
   ]
  },
  {
   "cell_type": "code",
   "execution_count": null,
   "id": "ab6e1488",
   "metadata": {
    "tags": []
   },
   "outputs": [],
   "source": [
    "# Function to fetch the latest Amazon Linux 2 AMI ID with error handling and fallback\n",
    "\n",
    "def get_latest_amazon_linux_2_ami():\n",
    "    try:\n",
    "        response = ec2_client.describe_images(\n",
    "            Owners=['amazon'],\n",
    "            Filters=[\n",
    "                {'Name': 'name', 'Values': ['amzn2-ami-hvm-*-x86_64-gp2']},\n",
    "                {'Name': 'state', 'Values': ['available']}\n",
    "            ]\n",
    "        )\n",
    "        \n",
    "        if not response['Images']:\n",
    "            print(\"No Amazon Linux 2 AMIs found. Falling back to a default AMI ID.\")\n",
    "            return 'ami-0caa0a2e2a99b8b82'  # This is a fallback AMI ID, replace with a known good one for your region\n",
    "        \n",
    "        # Sort the images by creation date\n",
    "        sorted_images = sorted(response['Images'], key=lambda x: x['CreationDate'], reverse=True)\n",
    "        latest_ami_id = sorted_images[0]['ImageId']\n",
    "        print(f\"Latest Amazon Linux 2 AMI ID: {latest_ami_id}\")\n",
    "        return latest_ami_id\n",
    "    \n",
    "    except Exception as e:\n",
    "        print(f\"An error occurred while fetching the latest AMI: {str(e)}\")\n",
    "        print(\"Falling back to a default AMI ID.\")\n",
    "        return 'ami-0caa0a2e2a99b8b82'  # This is a fallback AMI ID, replace with a known good one for your region\n",
    "\n",
    "# Get the latest Amazon Linux 2 AMI ID\n",
    "ami_id = get_latest_amazon_linux_2_ami()\n",
    "print(f\"Using AMI ID: {ami_id}\")"
   ]
  },
  {
   "cell_type": "code",
   "execution_count": null,
   "id": "e8a0998d",
   "metadata": {
    "tags": []
   },
   "outputs": [],
   "source": [
    "# User data script for backend instance setup: installs and configures Apache with PHP\n",
    "\n",
    "backend_user_data = '''#!/bin/bash\n",
    "yum update -y\n",
    "yum install -y httpd php\n",
    "systemctl start httpd\n",
    "systemctl enable httpd\n",
    "cat <<EOF > /var/www/html/api.php\n",
    "<?php\n",
    "\\$data = ['sensitive' => 'This is sensitive data from the backend'];\n",
    "header('Content-Type: application/json');\n",
    "echo json_encode(\\$data);\n",
    "?>\n",
    "EOF\n",
    "'''"
   ]
  },
  {
   "cell_type": "code",
   "execution_count": null,
   "id": "10bf77d6",
   "metadata": {
    "tags": []
   },
   "outputs": [],
   "source": [
    "# Create and launch the backend EC2 instance with specified configuration\n",
    "# Only assign Private IP\n",
    "\n",
    "backend_instance = ec2_resource.create_instances(\n",
    "    ImageId=ami_id,  # Amazon Linux 2 AMI ID (replace with the latest)\n",
    "    InstanceType='t3.micro',\n",
    "    MaxCount=1,\n",
    "    MinCount=1,\n",
    "    NetworkInterfaces=[{\n",
    "        'SubnetId': private_subnet_id,\n",
    "        'DeviceIndex': 0,\n",
    "        'AssociatePublicIpAddress': False,\n",
    "        'Groups': [value_store.get('backend_sg_id')]\n",
    "    }],\n",
    "    UserData=backend_user_data,\n",
    "    TagSpecifications=[\n",
    "        {\n",
    "            'ResourceType': 'instance',\n",
    "            'Tags': [\n",
    "                {\n",
    "                    'Key': 'Name',\n",
    "                    'Value': 'BackendServer'\n",
    "                },\n",
    "            ]\n",
    "        },\n",
    "    ]\n",
    ")\n",
    "backend_id = backend_instance[0].id\n",
    "print(f\"Backend server deployed with ID: {backend_id}\")"
   ]
  },
  {
   "cell_type": "code",
   "execution_count": null,
   "id": "da070fb5",
   "metadata": {
    "tags": []
   },
   "outputs": [],
   "source": [
    "# Wait for the instance to be running to get the IP addresses\n",
    "backend_instance[0].wait_until_running()\n",
    "backend_instance[0].reload()\n",
    "\n",
    "# Get private IP\n",
    "backend_private_ip = backend_instance[0].private_ip_address\n",
    "print(f\"Backend server private IP: {backend_private_ip}\")\n",
    "\n",
    "# Get public IP if it exists\n",
    "backend_public_ip = backend_instance[0].public_ip_address\n",
    "if backend_public_ip:\n",
    "    print(f\"Backend server public IP: {backend_public_ip}\")\n",
    "else:\n",
    "    print(\"Backend server does not have a public IP address.\")"
   ]
  },
  {
   "cell_type": "markdown",
   "id": "0bd40193",
   "metadata": {},
   "source": [
    "### Access the EC2 - BE Instances Menu in AWS Management Console.\n",
    "\n",
    "#### It should look like below:\n",
    "\n",
    "##### Server Details Tab\n",
    "\n",
    "![image.png](zt-lab3-image-BEInstances1-EC2-us-west-2.jpeg)\n",
    "\n",
    "##### Server Security Tab\n",
    "\n",
    "![image.png](zt-lab3-image-BEInstances2-EC2-us-west-2.png)\n",
    "\n"
   ]
  },
  {
   "cell_type": "markdown",
   "id": "4b037965",
   "metadata": {
    "jp-MarkdownHeadingCollapsed": true,
    "tags": []
   },
   "source": [
    "## Step 8: Deploy Frontend Web Server\n",
    "Finally, let's deploy our public-facing web server."
   ]
  },
  {
   "cell_type": "code",
   "execution_count": null,
   "id": "eb8b2ce3",
   "metadata": {
    "tags": []
   },
   "outputs": [],
   "source": [
    "# User data script for frontend instance setup: installs and configures Apache with PHP\n",
    "# Create a simple login screen that will verify the credentials with Secrets Manager\n",
    "\n",
    "frontend_user_data = f'''#!/bin/bash\n",
    "exec > >(tee /var/log/user-data.log|logger -t user-data -s 2>/dev/console) 2>&1\n",
    "echo \"Starting user data script execution\"\n",
    "yum update -y\n",
    "yum install -y httpd php aws-cli\n",
    "systemctl start httpd\n",
    "systemctl enable httpd\n",
    "echo \"date.timezone = America/New_York\" >> /etc/php.ini\n",
    "cat <<'EOT' > /var/www/html/index.php\n",
    "<?php\n",
    "error_reporting(E_ALL);\n",
    "ini_set('display_errors', 1);\n",
    "session_start();\n",
    "\n",
    "function getSecret() {{\n",
    "    $region = '{region}';\n",
    "    $output = shell_exec(\"aws secretsmanager get-secret-value --secret-id {secret_name} --query SecretString --output text --region $region\");\n",
    "    return json_decode($output, true);\n",
    "}}\n",
    "\n",
    "$secret = getSecret();\n",
    "if ($secret) {{\n",
    "    $USERNAME = $secret['username'];\n",
    "    $PASSWORD = $secret['password'];\n",
    "}} else {{\n",
    "    die(\"Error: Unable to fetch credentials\");\n",
    "}}\n",
    "\n",
    "$error_message = \"\";\n",
    "\n",
    "if ($_SERVER['REQUEST_METHOD'] === 'POST') {{\n",
    "    if (isset($_POST['logout'])) {{\n",
    "        session_destroy();\n",
    "        header(\"Location: \" . $_SERVER['PHP_SELF']);\n",
    "        exit();\n",
    "    }} elseif (isset($_POST['reset'])) {{\n",
    "        session_destroy();\n",
    "        header(\"Location: \" . $_SERVER['PHP_SELF']);\n",
    "        exit();\n",
    "    }} elseif (isset($_POST['username']) && isset($_POST['password'])) {{\n",
    "        if ($_POST['username'] === $USERNAME && $_POST['password'] === $PASSWORD) {{\n",
    "            $_SESSION['authenticated'] = true;\n",
    "        }} else {{\n",
    "            $error_message = \"Invalid username or password. Please try again.\";\n",
    "        }}\n",
    "    }}\n",
    "}}\n",
    "?>\n",
    "\n",
    "<!DOCTYPE html>\n",
    "<html lang=\"en\">\n",
    "<head>\n",
    "    <meta charset=\"UTF-8\">\n",
    "    <meta name=\"viewport\" content=\"width=device-width, initial-scale=1.0\">\n",
    "    <title>Secure Web Server</title>\n",
    "    <style>\n",
    "        body {{ font-family: Arial, sans-serif; margin: 0; padding: 20px; }}\n",
    "        .container {{ max-width: 600px; margin: 0 auto; }}\n",
    "        .error {{ color: red; }}\n",
    "        form {{ margin-top: 20px; }}\n",
    "        input {{ margin-bottom: 10px; }}\n",
    "    </style>\n",
    "</head>\n",
    "<body>\n",
    "    <div class=\"container\">\n",
    "        <?php\n",
    "        if (isset($_SESSION['authenticated']) && $_SESSION['authenticated'] === true) {{\n",
    "            $backend_ip = \"{backend_private_ip}\";\n",
    "            $data = @file_get_contents(\"http://$backend_ip/api.php\");\n",
    "            if ($data === false) {{\n",
    "                echo \"<h1>Error connecting to backend server</h1>\";\n",
    "                echo \"<p>Please check the backend server configuration.</p>\";\n",
    "            }} else {{\n",
    "                echo \"<h1>Welcome to our Secure Web Server!</h1>\";\n",
    "                echo \"<h2>Data from backend:</h2>\";\n",
    "                echo $data;\n",
    "            }}\n",
    "            echo \"<form method='post'>\";\n",
    "            echo \"<input type='submit' name='logout' value='Logout'>\";\n",
    "            echo \"<input type='submit' name='reset' value='Reset'>\";\n",
    "            echo \"</form>\";\n",
    "        }} else {{\n",
    "            echo \"<h1>Please Log In</h1>\";\n",
    "            if ($error_message) {{\n",
    "                echo \"<p class='error'>$error_message</p>\";\n",
    "            }}\n",
    "            echo \"<form method='post'>\";\n",
    "            echo \"Username: <input type='text' name='username'><br>\";\n",
    "            echo \"Password: <input type='password' name='password'><br>\";\n",
    "            echo \"<input type='submit' value='Log In'>\";\n",
    "            echo \"</form>\";\n",
    "        }}\n",
    "        ?>\n",
    "    </div>\n",
    "</body>\n",
    "</html>\n",
    "EOT\n",
    "chown apache:apache /var/www/html/index.php\n",
    "chmod 644 /var/www/html/index.php\n",
    "systemctl restart httpd\n",
    "echo \"User data script execution completed\"\n",
    "'''"
   ]
  },
  {
   "cell_type": "code",
   "execution_count": null,
   "id": "e3406cd0",
   "metadata": {
    "tags": []
   },
   "outputs": [],
   "source": [
    "# Create and launch the frontend EC2 instance with specified configuration\n",
    "\n",
    "web_instance = ec2_resource.create_instances(\n",
    "    ImageId=ami_id,  # Amazon Linux 2 AMI ID (replace with the latest)\n",
    "    InstanceType='t3.micro',\n",
    "    MaxCount=1,\n",
    "    MinCount=1,\n",
    "    NetworkInterfaces=[{\n",
    "        'SubnetId': public_subnet_id,\n",
    "        'DeviceIndex': 0,\n",
    "        'AssociatePublicIpAddress': True,\n",
    "        'Groups': [value_store.get('frontend_sg_id')]\n",
    "    }],\n",
    "    UserData=frontend_user_data,\n",
    "    TagSpecifications=[\n",
    "        {\n",
    "            'ResourceType': 'instance',\n",
    "            'Tags': [\n",
    "                {\n",
    "                    'Key': 'Name',\n",
    "                    'Value': 'FrontendServer'\n",
    "                },\n",
    "            ]\n",
    "        },\n",
    "    ],\n",
    "    IamInstanceProfile={'Arn': instance_profile_arn}  # Use the Instance Profile ARN here\n",
    ")\n",
    "web_id = web_instance[0].id\n",
    "print(f\"Web server deployed with ID: {web_id}\")"
   ]
  },
  {
   "cell_type": "code",
   "execution_count": null,
   "id": "e2bf4f9d",
   "metadata": {
    "tags": []
   },
   "outputs": [],
   "source": [
    "# Wait for the instance to be running to get the IP addresses\n",
    "web_instance[0].wait_until_running()\n",
    "web_instance[0].reload()\n",
    "\n",
    "# Get private IP\n",
    "web_private_ip = web_instance[0].private_ip_address\n",
    "print(f\"Web server private IP: {web_private_ip}\")\n",
    "\n",
    "# Get public IP\n",
    "web_public_ip = web_instance[0].public_ip_address\n",
    "if web_public_ip:\n",
    "    print(f\"Frontend Web server public IP: {web_public_ip}\")\n",
    "else:\n",
    "    print(\"Frontend Web server does not have a public IP address.\")"
   ]
  },
  {
   "cell_type": "markdown",
   "id": "37f2292d",
   "metadata": {},
   "source": [
    "### Access the EC2 - FE Instances Menu in AWS Management Console.\n",
    "\n",
    "#### It should look like below:\n",
    "\n",
    "##### Server Details Tab\n",
    "\n",
    "![image.png](zt-lab3-image-FEInstances1-EC2-us-west-2.jpeg)\n",
    "\n",
    "##### Server Security Tab\n",
    "\n",
    "![image.png](zt-lab3-image-FEInstances2-EC2-us-west-2.png)\n"
   ]
  },
  {
   "cell_type": "markdown",
   "id": "ec791770",
   "metadata": {
    "jp-MarkdownHeadingCollapsed": true,
    "tags": []
   },
   "source": [
    "## Testing the Traditionally-Secured System\n",
    "Now that our system is set up, let's test it by accessing the web server."
   ]
  },
  {
   "cell_type": "code",
   "execution_count": null,
   "id": "fa6019f6",
   "metadata": {
    "tags": []
   },
   "outputs": [],
   "source": [
    "# Wait for a bit to ensure the servers are fully initialized\n",
    "\n",
    "import time\n",
    "import boto3\n",
    "\n",
    "def wait_for_ec2_instances(instance_ids, region_name, timeout=300, interval=10):\n",
    "    \"\"\"\n",
    "    Waits for the given EC2 instances to pass system and instance status checks within a timeout period.\n",
    "\n",
    "    Args:\n",
    "        instance_ids (list): A list of EC2 instance IDs to check.\n",
    "        region_name (str): The AWS region where the instances are located.\n",
    "        timeout (int): The maximum time to wait (in seconds) before giving up.\n",
    "        interval (int): The time interval (in seconds) between status checks.\n",
    "\n",
    "    Returns:\n",
    "        bool: True if all instances pass system and instance checks within the timeout, False otherwise.\n",
    "    \"\"\"\n",
    "    ec2 = boto3.client('ec2', region_name=region_name)\n",
    "    start_time = time.time()\n",
    "\n",
    "    while time.time() - start_time < timeout:\n",
    "        # Check the status of the EC2 instances\n",
    "        response = ec2.describe_instance_status(InstanceIds=instance_ids)\n",
    "        \n",
    "        # Get the instance statuses\n",
    "        statuses = {instance['InstanceId']: {\n",
    "                        'instance_state': instance['InstanceState']['Name'],\n",
    "                        'system_status': instance['SystemStatus']['Status'],\n",
    "                        'instance_status': instance['InstanceStatus']['Status']\n",
    "                    }\n",
    "                    for instance in response['InstanceStatuses']}\n",
    "        \n",
    "        # Check if all instances are 'running' and both system and instance checks are 'ok'\n",
    "        \n",
    "\n",
    "        all_ready = all(\n",
    "            status['instance_state'] == 'running' and \n",
    "            status['system_status'] == 'ok' and \n",
    "            status['instance_status'] == 'ok'\n",
    "            for status in statuses.values()\n",
    "        )\n",
    "        \n",
    "        if all_ready:\n",
    "            print(f\"All instances {instance_ids} are fully initialized and passed all checks.\")\n",
    "            return True\n",
    "        \n",
    "        print(f\"Current statuses: {statuses}\")\n",
    "        print(f\"Waiting for EC2 instances {instance_ids} to pass system and instance checks...\")\n",
    "        time.sleep(interval)\n",
    "\n",
    "    print(f\"Timeout: EC2 instances {instance_ids} did not fully initialize within {timeout} seconds.\")\n",
    "    return False\n",
    "\n",
    "# IDs of front-end and back-end EC2 instances\n",
    "frontend_instance_id = web_id  # Replace with your front-end instance ID\n",
    "backend_instance_id = backend_id   # Replace with your back-end instance ID\n",
    "region = 'us-west-2'  # Replace with your region\n",
    "\n",
    "# Wait for both front-end and back-end instances to be fully initialized\n",
    "if wait_for_ec2_instances([frontend_instance_id, backend_instance_id], region_name=region):\n",
    "    print(\"Both EC2 instances are fully initialized!\")\n",
    "else:\n",
    "    print(\"One or both EC2 instances failed to fully initialize within the timeout.\")"
   ]
  },
  {
   "cell_type": "code",
   "execution_count": null,
   "id": "205e0f96",
   "metadata": {
    "tags": []
   },
   "outputs": [],
   "source": [
    "# Access the frontend web server\n",
    "\n",
    "import requests\n",
    "print(f\"Frontend Web server public IP: {web_public_ip}\")\n",
    "print(\"Accessing the web server:\")\n",
    "response = requests.get(f\"http://{web_public_ip}\")\n",
    "print(response.text)"
   ]
  },
  {
   "cell_type": "markdown",
   "id": "0a87380d-93c4-4c7d-989f-ec078110b734",
   "metadata": {
    "tags": []
   },
   "source": [
    "### Access the Frontend Web Server using its Public IP\n",
    "\n",
    "#### It should look like below:\n",
    "\n",
    "##### Before Login\n",
    "\n",
    "![image.png](zt-lab3-image-login-Secure-Web-Server.jpeg)\n",
    "\n",
    "##### After Login\n",
    "\n",
    "![image.png](zt-lab3-image-afterlogin-Secure-Web-Server.jpeg)\n"
   ]
  },
  {
   "cell_type": "markdown",
   "id": "3eed6eac",
   "metadata": {
    "jp-MarkdownHeadingCollapsed": true,
    "tags": []
   },
   "source": [
    "## Conclusion"
   ]
  },
  {
   "cell_type": "markdown",
   "id": "5b6c8600",
   "metadata": {},
   "source": [
    "In this lab, we've set up a traditionally-secured system in AWS and explored its components. The system functions are:\n",
    "1. This system has the authenticate the user against the credentials in Secrets Manager\n",
    "2. If credentials match, then access to the sensitive information is displayed\n",
    "3. If credentials do not match, then access is denied\n",
    "\n",
    "This system is based on \"Trust and Verify\" model.\n",
    "Next we will explore the zero trust \"Never Trust. Always VeriSfy\" model."
   ]
  },
  {
   "cell_type": "markdown",
   "id": "c42f0193",
   "metadata": {
    "jp-MarkdownHeadingCollapsed": true,
    "tags": []
   },
   "source": [
    "## Cleanup\n",
    "To avoid unnecessary charges, let's clean up our resources:"
   ]
  },
  {
   "cell_type": "code",
   "execution_count": null,
   "id": "0e9d85b6",
   "metadata": {
    "tags": []
   },
   "outputs": [],
   "source": [
    "import time\n",
    "\n",
    "# Terminate EC2 instances\n",
    "ec2_client.terminate_instances(InstanceIds=[backend_id, web_id])\n",
    "print(\"EC2 instance termination initiated.\")\n",
    "\n",
    "# Wait for instances to fully terminate\n",
    "def is_terminated(instance_id):\n",
    "    response = ec2_client.describe_instances(InstanceIds=[instance_id])\n",
    "    state = response['Reservations'][0]['Instances'][0]['State']['Name']\n",
    "    return state == 'terminated'\n",
    "\n",
    "print(\"Waiting for instances to fully terminate...\")\n",
    "while not (is_terminated(backend_id) and is_terminated(web_id)):\n",
    "    time.sleep(10)  # Wait for 10 seconds before checking again\n",
    "    print(\"Still waiting...\")\n",
    "\n",
    "print(\"All EC2 instances have been terminated.\")"
   ]
  },
  {
   "cell_type": "code",
   "execution_count": null,
   "id": "75387206-8ae3-49e2-8f82-0053bfbfc428",
   "metadata": {
    "tags": []
   },
   "outputs": [],
   "source": [
    "# Delete NAT Gateway and release Elastic IP\n",
    "import time\n",
    "\n",
    "nat_gateway = ec2_client.describe_nat_gateways(NatGatewayIds=[nat_gateway_id])['NatGateways'][0]\n",
    "allocation_id = nat_gateway['NatGatewayAddresses'][0]['AllocationId']\n",
    "\n",
    "# Delete the NAT Gateway\n",
    "ec2_client.delete_nat_gateway(NatGatewayId=nat_gateway_id)\n",
    "print(f\"Deletion initiated for NAT Gateway: {nat_gateway_id}\")\n",
    "\n",
    "# Wait for the NAT Gateway to be deleted\n",
    "print(\"Waiting for NAT Gateway to be deleted...\")\n",
    "while True:\n",
    "    try:\n",
    "        nat_gateway_state = ec2_client.describe_nat_gateways(NatGatewayIds=[nat_gateway_id])['NatGateways'][0]['State']\n",
    "        if nat_gateway_state == 'deleted':\n",
    "            print(\"NAT Gateway has been successfully deleted.\")\n",
    "            break\n",
    "        elif nat_gateway_state == 'deleting':\n",
    "            print(\"NAT Gateway is still being deleted. Waiting...\")\n",
    "            time.sleep(30)  # Wait for 30 seconds before checking again\n",
    "        else:\n",
    "            print(f\"Unexpected NAT Gateway state: {nat_gateway_state}. Continuing to wait...\")\n",
    "            time.sleep(30)\n",
    "    except ec2_client.exceptions.ClientError as e:\n",
    "        if 'NatGatewayNotFound' in str(e):\n",
    "            print(\"NAT Gateway has been successfully deleted.\")\n",
    "            break\n",
    "        else:\n",
    "            raise  # Re-raise the exception if it's not a 'NatGatewayNotFound' error\n",
    "\n",
    "# Release the Elastic IP\n",
    "ec2_client.release_address(AllocationId=allocation_id)\n",
    "print(f\"Released Elastic IP with Allocation ID: {allocation_id}\")"
   ]
  },
  {
   "cell_type": "code",
   "execution_count": null,
   "id": "a5d0eb3f",
   "metadata": {
    "tags": []
   },
   "outputs": [],
   "source": [
    "# Delete security group\n",
    "ec2_client.delete_security_group(GroupId=value_store.get('backend_sg_id'))\n",
    "ec2_client.delete_security_group(GroupId=value_store.get('frontend_sg_id'))\n",
    "\n",
    "print(\"Security group deleted.\")"
   ]
  },
  {
   "cell_type": "code",
   "execution_count": null,
   "id": "af938ce0",
   "metadata": {
    "tags": []
   },
   "outputs": [],
   "source": [
    "# Detach and delete Internet Gateway\n",
    "ec2_client.detach_internet_gateway(InternetGatewayId=igw_id, VpcId=value_store.get('vpc_id'))\n",
    "ec2_client.delete_internet_gateway(InternetGatewayId=igw_id)\n",
    "print(\"Internet Gateway deleted.\")"
   ]
  },
  {
   "cell_type": "code",
   "execution_count": null,
   "id": "eaa2ab84",
   "metadata": {
    "tags": []
   },
   "outputs": [],
   "source": [
    "# Delete subnet\n",
    "ec2_client.delete_subnet(SubnetId=public_subnet_id)\n",
    "ec2_client.delete_subnet(SubnetId=private_subnet_id)\n",
    "print(\"Subnet deleted.\")"
   ]
  },
  {
   "cell_type": "code",
   "execution_count": null,
   "id": "4c20c547",
   "metadata": {
    "tags": []
   },
   "outputs": [],
   "source": [
    "# Delete route table association\n",
    "import boto3\n",
    "import time\n",
    "\n",
    "ec2_client = boto3.client('ec2')\n",
    "ec2_resource = boto3.resource('ec2')\n",
    "\n",
    "vpc_id = value_store.get('vpc_id')\n",
    "vpc = ec2_resource.Vpc(vpc_id)\n",
    "\n",
    "def wait_for_deletion(resource_id, resource_type, check_function):\n",
    "    print(f\"Waiting for {resource_type} {resource_id} to be deleted...\")\n",
    "    while True:\n",
    "        try:\n",
    "            check_function(resource_id)\n",
    "            print(f\"{resource_type} {resource_id} still exists. Waiting...\")\n",
    "            time.sleep(5)\n",
    "        except ec2_client.exceptions.ClientError as e:\n",
    "            if 'NotFound' in str(e):\n",
    "                print(f\"{resource_type} {resource_id} has been deleted.\")\n",
    "                break\n",
    "            else:\n",
    "                raise\n",
    "\n",
    "def delete_routes(route_table):\n",
    "    for route in route_table.routes:\n",
    "        if route.origin == 'CreateRoute':\n",
    "            print(f\"Deleting route: {route.destination_cidr_block}\")\n",
    "            route.delete()\n",
    "\n",
    "def cleanup_route_tables():\n",
    "    for route_table in vpc.route_tables.all():\n",
    "        print(f\"Processing route table: {route_table.id}\")\n",
    "        \n",
    "        # Remove non-main associations\n",
    "        for association in route_table.associations:\n",
    "            if not association.main:\n",
    "                print(f\"Disassociating route table {route_table.id} from subnet {association.subnet_id}\")\n",
    "                association.delete()\n",
    "        \n",
    "        # Delete custom routes\n",
    "        delete_routes(route_table)\n",
    "        \n",
    "        # Try to delete the route table if it's not the main one\n",
    "        if not any(association.main for association in route_table.associations):\n",
    "            try:\n",
    "                print(f\"Attempting to delete route table: {route_table.id}\")\n",
    "                route_table.delete()\n",
    "                wait_for_deletion(route_table.id, 'Route Table', lambda id: ec2_client.describe_route_tables(RouteTableIds=[id]))\n",
    "            except ec2_client.exceptions.ClientError as e:\n",
    "                print(f\"Failed to delete route table {route_table.id}: {str(e)}\")\n",
    "\n",
    "# Run the cleanup\n",
    "cleanup_route_tables()\n",
    "\n",
    "print(\"Route table cleanup completed.\")"
   ]
  },
  {
   "cell_type": "code",
   "execution_count": null,
   "id": "d4ec3706",
   "metadata": {
    "tags": []
   },
   "outputs": [],
   "source": [
    "# Delete VPC\n",
    "ec2_client.delete_vpc(VpcId=value_store.get('vpc_id'))\n",
    "print(\"VPC deleted.\")"
   ]
  },
  {
   "cell_type": "code",
   "execution_count": null,
   "id": "b178176b-081d-4463-b1dc-50b0225a0138",
   "metadata": {
    "tags": []
   },
   "outputs": [],
   "source": [
    "# Delete Secret\n",
    "secretsmanager.delete_secret(SecretId=secret_name, ForceDeleteWithoutRecovery=True)\n",
    "print(f\"Secret deleted: {secret_name}\")"
   ]
  },
  {
   "cell_type": "code",
   "execution_count": null,
   "id": "3aaa2bdf",
   "metadata": {
    "tags": []
   },
   "outputs": [],
   "source": [
    "print(\"All resources have been cleaned up.\")"
   ]
  },
  {
   "cell_type": "code",
   "execution_count": null,
   "id": "19c68049-f1a5-4a27-b3a4-607251b662f7",
   "metadata": {
    "tags": []
   },
   "outputs": [],
   "source": []
  }
 ],
 "metadata": {
  "kernelspec": {
   "display_name": "conda_python3",
   "language": "python",
   "name": "conda_python3"
  },
  "language_info": {
   "codemirror_mode": {
    "name": "ipython",
    "version": 3
   },
   "file_extension": ".py",
   "mimetype": "text/x-python",
   "name": "python",
   "nbconvert_exporter": "python",
   "pygments_lexer": "ipython3",
   "version": "3.10.14"
  },
  "vscode": {
   "interpreter": {
    "hash": "31f2aee4e71d21fbe5cf8b01ff0e069b9275f58929596ceb00d14d90e3e16cd6"
   }
  }
 },
 "nbformat": 4,
 "nbformat_minor": 5
}
