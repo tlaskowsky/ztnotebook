{
 "cells": [
  {
   "cell_type": "markdown",
   "id": "2078a068",
   "metadata": {},
   "source": [
    "# Introduction to Jupyter Notebooks\n",
    "\n",
    "Welcome to this introductory guide to Jupyter Notebooks! This notebook will help you get familiar with the basic operations and best practices for using Jupyter Notebooks in our lab sessions."
   ]
  },
  {
   "cell_type": "markdown",
   "id": "ee8142cf",
   "metadata": {},
   "source": [
    "## 1. Understanding Cells\n",
    "\n",
    "Jupyter Notebooks are composed of cells. There are two main types of cells:\n",
    "\n",
    "1. **Markdown cells**: For text, like this one.\n",
    "2. **Code cells**: For executing Python code.\n",
    "\n",
    "To change a cell type, use the dropdown menu in the toolbar that says \"Code\" or \"Markdown\"."
   ]
  },
  {
   "cell_type": "markdown",
   "id": "4432424d",
   "metadata": {},
   "source": [
    "## 2. Running Cells\n",
    "\n",
    "Let's practice running cells:"
   ]
  },
  {
   "cell_type": "code",
   "execution_count": null,
   "id": "619216eb",
   "metadata": {},
   "outputs": [],
   "source": [
    "# This is a code cell. Click on it and press Shift+Enter to run it.\n",
    "print(\"Hello, Jupyter!\")"
   ]
  },
  {
   "cell_type": "markdown",
   "id": "1b0dcb7b",
   "metadata": {},
   "source": [
    "Now, try running the cell above by clicking on it and pressing Shift+Enter."
   ]
  },
  {
   "cell_type": "markdown",
   "id": "4cd38910",
   "metadata": {},
   "source": [
    "## 3. Order of Execution\n",
    "\n",
    "Cells can be run in any order, but this can sometimes lead to unexpected results. It's generally best to run cells from top to bottom."
   ]
  },
  {
   "cell_type": "code",
   "execution_count": null,
   "id": "019ecabe",
   "metadata": {},
   "outputs": [],
   "source": [
    "# Run this cell first\n",
    "x = 5"
   ]
  },
  {
   "cell_type": "code",
   "execution_count": null,
   "id": "a7a375f3",
   "metadata": {},
   "outputs": [],
   "source": [
    "# Then run this cell\n",
    "print(f\"The value of x is {x}\")"
   ]
  },
  {
   "cell_type": "markdown",
   "id": "7f15e478",
   "metadata": {},
   "source": [
    "Try running these cells in different orders and see what happens!"
   ]
  },
  {
   "cell_type": "markdown",
   "id": "95cc6a4c",
   "metadata": {},
   "source": [
    "## 4. Waiting for Cell Execution\n",
    "\n",
    "Some cells may take longer to run, especially when working with large datasets or complex computations. Let's simulate a long-running cell:"
   ]
  },
  {
   "cell_type": "code",
   "execution_count": null,
   "id": "d7c9a940",
   "metadata": {},
   "outputs": [],
   "source": [
    "import time\n",
    "\n",
    "print(\"Starting a long process...\")\n",
    "time.sleep(5)  # This will pause for 5 seconds\n",
    "print(\"Process completed!\")"
   ]
  },
  {
   "cell_type": "markdown",
   "id": "fc384ee6",
   "metadata": {},
   "source": [
    "When you run this cell, you'll see a `[*]` appear to the left of the cell, indicating that it's still running. Wait for it to complete before moving on."
   ]
  },
  {
   "cell_type": "markdown",
   "id": "76ec2c44",
   "metadata": {},
   "source": [
    "## 5. Restarting the Kernel\n",
    "\n",
    "Sometimes you may need to restart the kernel, which clears all variables and starts fresh. To do this:\n",
    "\n",
    "1. Click on the \"Kernel\" menu at the top of the notebook.\n",
    "2. Select \"Restart & Clear Output\" or \"Restart & Run All\" depending on your needs.\n",
    "\n",
    "Try restarting the kernel now and then re-run the cells above."
   ]
  },
  {
   "cell_type": "markdown",
   "id": "0a402fca",
   "metadata": {},
   "source": [
    "## 6. Best Practices\n",
    "\n",
    "- **Run cells in order**: Generally, run your notebook from top to bottom to ensure all necessary variables and functions are defined.\n",
    "- **Don't repeatedly click \"Run\"**: If a cell is taking a long time, be patient. Repeatedly clicking run can queue up multiple executions.\n",
    "- **Clear outputs when sharing**: If you're sharing your notebook, it's often good to clear all outputs first (Cell > All Output > Clear).\n",
    "- **Use Markdown for explanations**: Use Markdown cells to explain your code and provide context.\n",
    "\n",
    "[Markdown Format](https://jupyter-notebook.readthedocs.io/en/stable/examples/Notebook/Working%20With%20Markdown%20Cells.html \"Jupyter Markdown Cells Guide\")\n"
   ]
  },
  {
   "cell_type": "markdown",
   "id": "9264ce7e",
   "metadata": {},
   "source": [
    "## 7. Saving Your Work\n",
    "\n",
    "Jupyter automatically saves your work, but it's a good habit to manually save occasionally:\n",
    "\n",
    "- Use Ctrl+S (Windows/Linux) or Cmd+S (Mac) to save.\n",
    "- Or click File > Save and Checkpoint."
   ]
  },
  {
   "cell_type": "markdown",
   "id": "81baad1f",
   "metadata": {},
   "source": [
    "## Conclusion\n",
    "\n",
    "You've now learned the basics of working with Jupyter Notebooks! In our upcoming labs, you'll be using these skills to run pre-written code and examine results. Remember, if you ever get stuck, you can always restart the kernel and run all cells from the beginning.\n",
    "\n",
    "Happy learning!"
   ]
  }
 ],
 "metadata": {
  "kernelspec": {
   "display_name": "conda_python3",
   "language": "python",
   "name": "conda_python3"
  },
  "language_info": {
   "codemirror_mode": {
    "name": "ipython",
    "version": 3
   },
   "file_extension": ".py",
   "mimetype": "text/x-python",
   "name": "python",
   "nbconvert_exporter": "python",
   "pygments_lexer": "ipython3",
   "version": "3.10.14"
  }
 },
 "nbformat": 4,
 "nbformat_minor": 5
}
